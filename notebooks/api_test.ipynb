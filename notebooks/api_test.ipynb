{
 "metadata": {
  "language_info": {
   "codemirror_mode": {
    "name": "ipython",
    "version": 3
   },
   "file_extension": ".py",
   "mimetype": "text/x-python",
   "name": "python",
   "nbconvert_exporter": "python",
   "pygments_lexer": "ipython3",
   "version": "3.8.3-final"
  },
  "orig_nbformat": 2,
  "kernelspec": {
   "name": "python_defaultSpec_1598965426665",
   "display_name": "Python 3.8.3 64-bit ('base': conda)"
  }
 },
 "nbformat": 4,
 "nbformat_minor": 2,
 "cells": [
  {
   "cell_type": "markdown",
   "metadata": {},
   "source": [
    "# Testes de API\n",
    "\n",
    "## Setup"
   ]
  },
  {
   "cell_type": "code",
   "execution_count": 1,
   "metadata": {
    "tags": []
   },
   "outputs": [
    {
     "output_type": "stream",
     "name": "stdout",
     "text": "c:\\Users\\gsalt\\projeto-ml-codenation\n"
    }
   ],
   "source": [
    "%cd .."
   ]
  },
  {
   "cell_type": "code",
   "execution_count": 2,
   "metadata": {},
   "outputs": [],
   "source": [
    "import pandas as pd\n",
    "import requests\n",
    "import json"
   ]
  },
  {
   "cell_type": "markdown",
   "metadata": {},
   "source": [
    "## Chamada de exemplo"
   ]
  },
  {
   "cell_type": "code",
   "execution_count": 23,
   "metadata": {},
   "outputs": [],
   "source": [
    "# portfolio ex.1\n",
    "sample_ids = pd.read_csv('data/estaticos_portfolio1.csv')['id'].sample(10).tolist()"
   ]
  },
  {
   "cell_type": "code",
   "execution_count": 24,
   "metadata": {},
   "outputs": [
    {
     "output_type": "execute_result",
     "data": {
      "text/plain": "['cc72dbac2fb4b8bbb08974296a805252184c13f1c289701e405501402ca867ee',\n '8f67be844ae395146a9185003d80acd6b0d4d7fab90a92b5baf82849a5523c97',\n '6bd7a51cda44594af97ed0ed24768c041e97aabd5d340abe1bbd16ca7b20b114',\n 'cc829430552a38607ced5837df71617a8e461a3bec72e97f7cc411dde7e594a4',\n '68d59e0d490f829027feca49524633f4a7a9c7fea8c551f6237119c19880a102',\n 'cd18f63d488fe102b2a5d999bc8fa392a6e964ff3e8f15593678b8e0b28a24d4',\n 'a8a256ed0e31fefaeff2c1e72dcc80c385537d2bd7ee877eb13a522b9f7c9be7',\n '5bf996b49298eb2fc838bc393d7a17a60d80647340028c64e0f9d0d1b3aa87db',\n '55c3e29e6c704eabeabcaf5cf98fcca303cd9e50ebe8126e37d00794868e3e06',\n '43ab1321903c5c982e7236a4d6a07dad71b3146cdfdd96eae2af74fb67105f3d']"
     },
     "metadata": {},
     "execution_count": 24
    }
   ],
   "source": [
    "sample_ids"
   ]
  },
  {
   "cell_type": "markdown",
   "metadata": {},
   "source": [
    "Chamada à API:"
   ]
  },
  {
   "cell_type": "code",
   "execution_count": 38,
   "metadata": {},
   "outputs": [],
   "source": [
    "# get_table\n",
    "req_tab = requests.post('http://localhost:8050/get_table', data=json.dumps({'ids': sample_ids}))"
   ]
  },
  {
   "cell_type": "code",
   "execution_count": 39,
   "metadata": {},
   "outputs": [
    {
     "output_type": "execute_result",
     "data": {
      "text/plain": "<Response [200]>"
     },
     "metadata": {},
     "execution_count": 39
    }
   ],
   "source": [
    "req_tab"
   ]
  },
  {
   "cell_type": "code",
   "execution_count": 40,
   "metadata": {},
   "outputs": [],
   "source": [
    "# predict\n",
    "req_red = requests.post('http://localhost:8050/predict', data=json.dumps({'ids': sample_ids, 'n_rec': 10}))"
   ]
  },
  {
   "cell_type": "code",
   "execution_count": 46,
   "metadata": {},
   "outputs": [
    {
     "output_type": "execute_result",
     "data": {
      "text/plain": "<Response [200]>"
     },
     "metadata": {},
     "execution_count": 46
    }
   ],
   "source": [
    "req_red"
   ]
  }
 ]
}