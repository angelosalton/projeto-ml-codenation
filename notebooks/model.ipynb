{
 "cells": [
  {
   "cell_type": "markdown",
   "metadata": {},
   "source": [
    "# Modelo de recomendação\n",
    "\n",
    "## Setup"
   ]
  },
  {
   "cell_type": "code",
   "execution_count": 1,
   "metadata": {},
   "outputs": [],
   "source": [
    "import pandas as pd\n",
    "import numpy as np\n",
    "import joblib\n",
    "\n",
    "from ipywidgets import interact\n",
    "import matplotlib.pyplot as plt\n",
    "\n",
    "pd.set_option('display.max_columns', 500)\n",
    "pd.set_option('display.max_rows', 500)"
   ]
  },
  {
   "cell_type": "markdown",
   "metadata": {},
   "source": [
    "# Pré-processamento dos dados"
   ]
  },
  {
   "cell_type": "code",
   "execution_count": 2,
   "metadata": {},
   "outputs": [],
   "source": [
    "X = pd.read_parquet('../data/estaticos_market.parquet')"
   ]
  },
  {
   "cell_type": "code",
   "execution_count": 3,
   "metadata": {},
   "outputs": [
    {
     "output_type": "execute_result",
     "data": {
      "text/plain": "                                                       id  fl_matriz  \\\n163704  6ba5b2974388ce54ddbc38f6ee3023a67e5c385f311c07...          1   \n42384   3c06d5a5eb3aa7c80d8b6cd78bd31be30a0a289d4cf0d9...          1   \n85960   1d2a785b9a91712d7b1ed131efb179c16b0b35f29daf55...          1   \n143044  712beadb857fe49a0028c1ef6dd9447df17310fa91b106...          0   \n298951  5153413f3a014bba2b8681ae611d4ed5f42d2d52ae6cb2...          1   \n\n                 de_natureza_juridica sg_uf natureza_juridica_macro  \\\n163704         SOCIEDADE SIMPLES PURA    RO  ENTIDADES EMPRESARIAIS   \n42384           EMPRESARIO INDIVIDUAL    AM                  OUTROS   \n85960   SOCIEDADE EMPRESARIA LIMITADA    RN  ENTIDADES EMPRESARIAIS   \n143044          EMPRESARIO INDIVIDUAL    PI                  OUTROS   \n298951          EMPRESARIO INDIVIDUAL    PI                  OUTROS   \n\n                                   de_ramo             setor  \\\n163704                   SERVICOS DE SAUDE           SERVIÇO   \n42384   SERVICOS DE ALOJAMENTO/ALIMENTACAO           SERVIÇO   \n85960              INDUSTRIA DA CONSTRUCAO  CONSTRUÇÃO CIVIL   \n143044                  COMERCIO VAREJISTA          COMERCIO   \n298951                  COMERCIO VAREJISTA          COMERCIO   \n\n        idade_empresa_anos idade_emp_cat  fl_me  fl_sa  fl_epp  fl_mei  \\\n163704            0.189041          <= 1      0      0       0       0   \n42384             2.068493         1 a 5      0      0       0       1   \n85960             2.268493         1 a 5      0      0       0       0   \n143044            4.293151         1 a 5      0      0       0       0   \n298951           49.816438          > 20      0      0       0       0   \n\n        fl_ltda dt_situacao  fl_st_especial  fl_email  fl_telefone fl_rm  \\\n163704        0  2018-08-20               0         1            1   NAO   \n42384         0  2016-10-03               0         1            1   SIM   \n85960         0  2016-07-22               0         1            0   SIM   \n143044        0  2014-07-14               0         0            1   NAO   \n298951        0  2005-11-03               0         0            0   NAO   \n\n                                  nm_divisao  \\\n163704  ATIVIDADES DE ATENCAO A SAUDE HUMANA   \n42384                            ALIMENTACAO   \n85960                CONSTRUCAO DE EDIFICIOS   \n143044                    COMERCIO VAREJISTA   \n298951                    COMERCIO VAREJISTA   \n\n                                              nm_segmento fl_spa fl_antt  \\\n163704                    SAUDE HUMANA E SERVICOS SOCIAIS  False   False   \n42384                            ALOJAMENTO E ALIMENTACAO  False   False   \n85960                                          CONSTRUCAO  False   False   \n143044  COMERCIO; REPARACAO DE VEICULOS AUTOMOTORES E ...  False   False   \n298951  COMERCIO; REPARACAO DE VEICULOS AUTOMOTORES E ...  False   False   \n\n       fl_veiculo fl_optante_simples  vl_total_veiculos_pesados_grupo  \\\n163704      False               None                              0.0   \n42384       False               True                              0.0   \n85960       False              False                              0.0   \n143044      False               True                              1.0   \n298951      False              False                              0.0   \n\n        vl_total_veiculos_leves_grupo fl_optante_simei sg_uf_matriz  \\\n163704                            0.0             None           RO   \n42384                             0.0             True           AM   \n85960                             0.0            False           RN   \n143044                            0.0            False           PI   \n298951                            0.0            False           PI   \n\n       de_saude_tributaria de_saude_rescencia  nu_meses_rescencia  \\\n163704                None               None                 NaN   \n42384                VERDE     ACIMA DE 1 ANO                22.0   \n85960                VERDE     ACIMA DE 1 ANO                24.0   \n143044               VERDE     ACIMA DE 1 ANO                21.0   \n298951             AMARELO     ACIMA DE 1 ANO                22.0   \n\n       de_nivel_atividade fl_simples_irregular  \\\n163704               None                False   \n42384                ALTA                False   \n85960                ALTA                False   \n143044              MEDIA                False   \n298951              MEDIA                False   \n\n        empsetorcensitariofaixarendapopulacao     nm_meso_regiao  \\\n163704                                1681.00               None   \n42384                                 3071.98  CENTRO AMAZONENSE   \n85960                                     NaN     LESTE POTIGUAR   \n143044                                 787.99    NORTE PIAUIENSE   \n298951                                1960.54    NORTE PIAUIENSE   \n\n          nm_micro_regiao fl_passivel_iss  qt_socios  qt_socios_pf  \\\n163704               None            True        5.0           5.0   \n42384              MANAUS            True        1.0           1.0   \n85960               NATAL            True        2.0           2.0   \n143044  LITORAL PIAUIENSE           False        NaN           NaN   \n298951  LITORAL PIAUIENSE           False        1.0           1.0   \n\n        qt_socios_pj  idade_media_socios  idade_maxima_socios  \\\n163704           0.0                35.0                 39.0   \n42384            0.0                30.0                 30.0   \n85960            0.0                 NaN                  NaN   \n143044           NaN                 NaN                  NaN   \n298951           0.0                 NaN                  NaN   \n\n        idade_minima_socios  qt_socios_st_regular  qt_socios_masculino  \\\n163704                 32.0                   3.0                  2.0   \n42384                  30.0                   1.0                  1.0   \n85960                   NaN                   NaN                  NaN   \n143044                  NaN                   NaN                  NaN   \n298951                  NaN                   NaN                  NaN   \n\n        qt_socios_feminino  qt_coligados  qt_coligados_matriz  \\\n163704                 1.0           5.0                  5.0   \n42384                  NaN           0.0                  0.0   \n85960                  NaN           0.0                  0.0   \n143044                 NaN           0.0                  0.0   \n298951                 NaN           0.0                  0.0   \n\n        qt_coligados_ativo  qt_coligados_baixada  qt_coligados_inapta  \\\n163704                 5.0                   0.0                  0.0   \n42384                  0.0                   0.0                  0.0   \n85960                  0.0                   0.0                  0.0   \n143044                 0.0                   0.0                  0.0   \n298951                 0.0                   0.0                  0.0   \n\n        qt_coligados_suspensa  qt_coligados_nula  qt_coligados_sa  \\\n163704                    0.0                0.0              0.0   \n42384                     0.0                0.0              0.0   \n85960                     0.0                0.0              0.0   \n143044                    0.0                0.0              0.0   \n298951                    0.0                0.0              0.0   \n\n        qt_coligados_me  qt_coligados_mei  qt_coligados_ltda  \\\n163704              0.0               0.0                0.0   \n42384               0.0               0.0                0.0   \n85960               0.0               0.0                0.0   \n143044              0.0               0.0                0.0   \n298951              0.0               0.0                0.0   \n\n        qt_coligados_epp  qt_coligados_norte  qt_coligados_sul  \\\n163704               0.0                 5.0               0.0   \n42384                0.0                 0.0               0.0   \n85960                0.0                 0.0               0.0   \n143044               0.0                 0.0               0.0   \n298951               0.0                 0.0               0.0   \n\n        qt_coligados_nordeste  qt_coligados_centro  qt_coligados_sudeste  \\\n163704                    0.0                  0.0                   0.0   \n42384                     0.0                  0.0                   0.0   \n85960                     0.0                  0.0                   0.0   \n143044                    0.0                  0.0                   0.0   \n298951                    0.0                  0.0                   0.0   \n\n        qt_coligados_exterior  qt_coligados_industria  \\\n163704                    0.0                     0.0   \n42384                     0.0                     0.0   \n85960                     0.0                     0.0   \n143044                    0.0                     0.0   \n298951                    0.0                     0.0   \n\n        qt_coligados_agropecuaria  qt_coligados_comercio  \\\n163704                        0.0                    0.0   \n42384                         0.0                    0.0   \n85960                         0.0                    0.0   \n143044                        0.0                    0.0   \n298951                        0.0                    0.0   \n\n        qt_coligados_serviço  qt_coligados_ccivil  \\\n163704                   5.0                  0.0   \n42384                    0.0                  0.0   \n85960                    0.0                  0.0   \n143044                   0.0                  0.0   \n298951                   0.0                  0.0   \n\n        qt_coligados_atividade_alto  qt_coligados_atividade_medio  \\\n163704                          0.0                           0.0   \n42384                           0.0                           0.0   \n85960                           0.0                           0.0   \n143044                          0.0                           0.0   \n298951                          0.0                           0.0   \n\n        qt_coligados_atividade_baixo  qt_coligados_atividade_mt_baixo  \\\n163704                           0.0                              0.0   \n42384                            0.0                              0.0   \n85960                            0.0                              0.0   \n143044                           0.0                              0.0   \n298951                           0.0                              0.0   \n\n        qt_coligados_atividade_inativo       de_faixa_faturamento_estimado  \\\n163704                             0.0                                None   \n42384                              0.0                    ATE R$ 81.000,00   \n85960                              0.0     DE R$ 81.000,01 A R$ 360.000,00   \n143044                             0.0  DE R$ 360.000,01 A R$ 1.500.000,00   \n298951                             0.0     DE R$ 81.000,01 A R$ 360.000,00   \n\n       de_faixa_faturamento_estimado_grupo  vl_faturamento_estimado_aux  \\\n163704                                None                          NaN   \n42384                     ATE R$ 81.000,00                      50000.0   \n85960      DE R$ 81.000,01 A R$ 360.000,00                     210000.0   \n143044  DE R$ 360.000,01 A R$ 1.500.000,00                     370915.2   \n298951     DE R$ 81.000,01 A R$ 360.000,00                     210000.0   \n\n        vl_faturamento_estimado_grupo_aux  qt_filiais  \n163704                                NaN           0  \n42384                             50000.0           0  \n85960                            210000.0           0  \n143044                          1112745.6           2  \n298951                           210000.0           0  ",
      "text/html": "<div>\n<style scoped>\n    .dataframe tbody tr th:only-of-type {\n        vertical-align: middle;\n    }\n\n    .dataframe tbody tr th {\n        vertical-align: top;\n    }\n\n    .dataframe thead th {\n        text-align: right;\n    }\n</style>\n<table border=\"1\" class=\"dataframe\">\n  <thead>\n    <tr style=\"text-align: right;\">\n      <th></th>\n      <th>id</th>\n      <th>fl_matriz</th>\n      <th>de_natureza_juridica</th>\n      <th>sg_uf</th>\n      <th>natureza_juridica_macro</th>\n      <th>de_ramo</th>\n      <th>setor</th>\n      <th>idade_empresa_anos</th>\n      <th>idade_emp_cat</th>\n      <th>fl_me</th>\n      <th>fl_sa</th>\n      <th>fl_epp</th>\n      <th>fl_mei</th>\n      <th>fl_ltda</th>\n      <th>dt_situacao</th>\n      <th>fl_st_especial</th>\n      <th>fl_email</th>\n      <th>fl_telefone</th>\n      <th>fl_rm</th>\n      <th>nm_divisao</th>\n      <th>nm_segmento</th>\n      <th>fl_spa</th>\n      <th>fl_antt</th>\n      <th>fl_veiculo</th>\n      <th>fl_optante_simples</th>\n      <th>vl_total_veiculos_pesados_grupo</th>\n      <th>vl_total_veiculos_leves_grupo</th>\n      <th>fl_optante_simei</th>\n      <th>sg_uf_matriz</th>\n      <th>de_saude_tributaria</th>\n      <th>de_saude_rescencia</th>\n      <th>nu_meses_rescencia</th>\n      <th>de_nivel_atividade</th>\n      <th>fl_simples_irregular</th>\n      <th>empsetorcensitariofaixarendapopulacao</th>\n      <th>nm_meso_regiao</th>\n      <th>nm_micro_regiao</th>\n      <th>fl_passivel_iss</th>\n      <th>qt_socios</th>\n      <th>qt_socios_pf</th>\n      <th>qt_socios_pj</th>\n      <th>idade_media_socios</th>\n      <th>idade_maxima_socios</th>\n      <th>idade_minima_socios</th>\n      <th>qt_socios_st_regular</th>\n      <th>qt_socios_masculino</th>\n      <th>qt_socios_feminino</th>\n      <th>qt_coligados</th>\n      <th>qt_coligados_matriz</th>\n      <th>qt_coligados_ativo</th>\n      <th>qt_coligados_baixada</th>\n      <th>qt_coligados_inapta</th>\n      <th>qt_coligados_suspensa</th>\n      <th>qt_coligados_nula</th>\n      <th>qt_coligados_sa</th>\n      <th>qt_coligados_me</th>\n      <th>qt_coligados_mei</th>\n      <th>qt_coligados_ltda</th>\n      <th>qt_coligados_epp</th>\n      <th>qt_coligados_norte</th>\n      <th>qt_coligados_sul</th>\n      <th>qt_coligados_nordeste</th>\n      <th>qt_coligados_centro</th>\n      <th>qt_coligados_sudeste</th>\n      <th>qt_coligados_exterior</th>\n      <th>qt_coligados_industria</th>\n      <th>qt_coligados_agropecuaria</th>\n      <th>qt_coligados_comercio</th>\n      <th>qt_coligados_serviço</th>\n      <th>qt_coligados_ccivil</th>\n      <th>qt_coligados_atividade_alto</th>\n      <th>qt_coligados_atividade_medio</th>\n      <th>qt_coligados_atividade_baixo</th>\n      <th>qt_coligados_atividade_mt_baixo</th>\n      <th>qt_coligados_atividade_inativo</th>\n      <th>de_faixa_faturamento_estimado</th>\n      <th>de_faixa_faturamento_estimado_grupo</th>\n      <th>vl_faturamento_estimado_aux</th>\n      <th>vl_faturamento_estimado_grupo_aux</th>\n      <th>qt_filiais</th>\n    </tr>\n  </thead>\n  <tbody>\n    <tr>\n      <th>163704</th>\n      <td>6ba5b2974388ce54ddbc38f6ee3023a67e5c385f311c07...</td>\n      <td>1</td>\n      <td>SOCIEDADE SIMPLES PURA</td>\n      <td>RO</td>\n      <td>ENTIDADES EMPRESARIAIS</td>\n      <td>SERVICOS DE SAUDE</td>\n      <td>SERVIÇO</td>\n      <td>0.189041</td>\n      <td>&lt;= 1</td>\n      <td>0</td>\n      <td>0</td>\n      <td>0</td>\n      <td>0</td>\n      <td>0</td>\n      <td>2018-08-20</td>\n      <td>0</td>\n      <td>1</td>\n      <td>1</td>\n      <td>NAO</td>\n      <td>ATIVIDADES DE ATENCAO A SAUDE HUMANA</td>\n      <td>SAUDE HUMANA E SERVICOS SOCIAIS</td>\n      <td>False</td>\n      <td>False</td>\n      <td>False</td>\n      <td>None</td>\n      <td>0.0</td>\n      <td>0.0</td>\n      <td>None</td>\n      <td>RO</td>\n      <td>None</td>\n      <td>None</td>\n      <td>NaN</td>\n      <td>None</td>\n      <td>False</td>\n      <td>1681.00</td>\n      <td>None</td>\n      <td>None</td>\n      <td>True</td>\n      <td>5.0</td>\n      <td>5.0</td>\n      <td>0.0</td>\n      <td>35.0</td>\n      <td>39.0</td>\n      <td>32.0</td>\n      <td>3.0</td>\n      <td>2.0</td>\n      <td>1.0</td>\n      <td>5.0</td>\n      <td>5.0</td>\n      <td>5.0</td>\n      <td>0.0</td>\n      <td>0.0</td>\n      <td>0.0</td>\n      <td>0.0</td>\n      <td>0.0</td>\n      <td>0.0</td>\n      <td>0.0</td>\n      <td>0.0</td>\n      <td>0.0</td>\n      <td>5.0</td>\n      <td>0.0</td>\n      <td>0.0</td>\n      <td>0.0</td>\n      <td>0.0</td>\n      <td>0.0</td>\n      <td>0.0</td>\n      <td>0.0</td>\n      <td>0.0</td>\n      <td>5.0</td>\n      <td>0.0</td>\n      <td>0.0</td>\n      <td>0.0</td>\n      <td>0.0</td>\n      <td>0.0</td>\n      <td>0.0</td>\n      <td>None</td>\n      <td>None</td>\n      <td>NaN</td>\n      <td>NaN</td>\n      <td>0</td>\n    </tr>\n    <tr>\n      <th>42384</th>\n      <td>3c06d5a5eb3aa7c80d8b6cd78bd31be30a0a289d4cf0d9...</td>\n      <td>1</td>\n      <td>EMPRESARIO INDIVIDUAL</td>\n      <td>AM</td>\n      <td>OUTROS</td>\n      <td>SERVICOS DE ALOJAMENTO/ALIMENTACAO</td>\n      <td>SERVIÇO</td>\n      <td>2.068493</td>\n      <td>1 a 5</td>\n      <td>0</td>\n      <td>0</td>\n      <td>0</td>\n      <td>1</td>\n      <td>0</td>\n      <td>2016-10-03</td>\n      <td>0</td>\n      <td>1</td>\n      <td>1</td>\n      <td>SIM</td>\n      <td>ALIMENTACAO</td>\n      <td>ALOJAMENTO E ALIMENTACAO</td>\n      <td>False</td>\n      <td>False</td>\n      <td>False</td>\n      <td>True</td>\n      <td>0.0</td>\n      <td>0.0</td>\n      <td>True</td>\n      <td>AM</td>\n      <td>VERDE</td>\n      <td>ACIMA DE 1 ANO</td>\n      <td>22.0</td>\n      <td>ALTA</td>\n      <td>False</td>\n      <td>3071.98</td>\n      <td>CENTRO AMAZONENSE</td>\n      <td>MANAUS</td>\n      <td>True</td>\n      <td>1.0</td>\n      <td>1.0</td>\n      <td>0.0</td>\n      <td>30.0</td>\n      <td>30.0</td>\n      <td>30.0</td>\n      <td>1.0</td>\n      <td>1.0</td>\n      <td>NaN</td>\n      <td>0.0</td>\n      <td>0.0</td>\n      <td>0.0</td>\n      <td>0.0</td>\n      <td>0.0</td>\n      <td>0.0</td>\n      <td>0.0</td>\n      <td>0.0</td>\n      <td>0.0</td>\n      <td>0.0</td>\n      <td>0.0</td>\n      <td>0.0</td>\n      <td>0.0</td>\n      <td>0.0</td>\n      <td>0.0</td>\n      <td>0.0</td>\n      <td>0.0</td>\n      <td>0.0</td>\n      <td>0.0</td>\n      <td>0.0</td>\n      <td>0.0</td>\n      <td>0.0</td>\n      <td>0.0</td>\n      <td>0.0</td>\n      <td>0.0</td>\n      <td>0.0</td>\n      <td>0.0</td>\n      <td>0.0</td>\n      <td>ATE R$ 81.000,00</td>\n      <td>ATE R$ 81.000,00</td>\n      <td>50000.0</td>\n      <td>50000.0</td>\n      <td>0</td>\n    </tr>\n    <tr>\n      <th>85960</th>\n      <td>1d2a785b9a91712d7b1ed131efb179c16b0b35f29daf55...</td>\n      <td>1</td>\n      <td>SOCIEDADE EMPRESARIA LIMITADA</td>\n      <td>RN</td>\n      <td>ENTIDADES EMPRESARIAIS</td>\n      <td>INDUSTRIA DA CONSTRUCAO</td>\n      <td>CONSTRUÇÃO CIVIL</td>\n      <td>2.268493</td>\n      <td>1 a 5</td>\n      <td>0</td>\n      <td>0</td>\n      <td>0</td>\n      <td>0</td>\n      <td>0</td>\n      <td>2016-07-22</td>\n      <td>0</td>\n      <td>1</td>\n      <td>0</td>\n      <td>SIM</td>\n      <td>CONSTRUCAO DE EDIFICIOS</td>\n      <td>CONSTRUCAO</td>\n      <td>False</td>\n      <td>False</td>\n      <td>False</td>\n      <td>False</td>\n      <td>0.0</td>\n      <td>0.0</td>\n      <td>False</td>\n      <td>RN</td>\n      <td>VERDE</td>\n      <td>ACIMA DE 1 ANO</td>\n      <td>24.0</td>\n      <td>ALTA</td>\n      <td>False</td>\n      <td>NaN</td>\n      <td>LESTE POTIGUAR</td>\n      <td>NATAL</td>\n      <td>True</td>\n      <td>2.0</td>\n      <td>2.0</td>\n      <td>0.0</td>\n      <td>NaN</td>\n      <td>NaN</td>\n      <td>NaN</td>\n      <td>NaN</td>\n      <td>NaN</td>\n      <td>NaN</td>\n      <td>0.0</td>\n      <td>0.0</td>\n      <td>0.0</td>\n      <td>0.0</td>\n      <td>0.0</td>\n      <td>0.0</td>\n      <td>0.0</td>\n      <td>0.0</td>\n      <td>0.0</td>\n      <td>0.0</td>\n      <td>0.0</td>\n      <td>0.0</td>\n      <td>0.0</td>\n      <td>0.0</td>\n      <td>0.0</td>\n      <td>0.0</td>\n      <td>0.0</td>\n      <td>0.0</td>\n      <td>0.0</td>\n      <td>0.0</td>\n      <td>0.0</td>\n      <td>0.0</td>\n      <td>0.0</td>\n      <td>0.0</td>\n      <td>0.0</td>\n      <td>0.0</td>\n      <td>0.0</td>\n      <td>0.0</td>\n      <td>DE R$ 81.000,01 A R$ 360.000,00</td>\n      <td>DE R$ 81.000,01 A R$ 360.000,00</td>\n      <td>210000.0</td>\n      <td>210000.0</td>\n      <td>0</td>\n    </tr>\n    <tr>\n      <th>143044</th>\n      <td>712beadb857fe49a0028c1ef6dd9447df17310fa91b106...</td>\n      <td>0</td>\n      <td>EMPRESARIO INDIVIDUAL</td>\n      <td>PI</td>\n      <td>OUTROS</td>\n      <td>COMERCIO VAREJISTA</td>\n      <td>COMERCIO</td>\n      <td>4.293151</td>\n      <td>1 a 5</td>\n      <td>0</td>\n      <td>0</td>\n      <td>0</td>\n      <td>0</td>\n      <td>0</td>\n      <td>2014-07-14</td>\n      <td>0</td>\n      <td>0</td>\n      <td>1</td>\n      <td>NAO</td>\n      <td>COMERCIO VAREJISTA</td>\n      <td>COMERCIO; REPARACAO DE VEICULOS AUTOMOTORES E ...</td>\n      <td>False</td>\n      <td>False</td>\n      <td>False</td>\n      <td>True</td>\n      <td>1.0</td>\n      <td>0.0</td>\n      <td>False</td>\n      <td>PI</td>\n      <td>VERDE</td>\n      <td>ACIMA DE 1 ANO</td>\n      <td>21.0</td>\n      <td>MEDIA</td>\n      <td>False</td>\n      <td>787.99</td>\n      <td>NORTE PIAUIENSE</td>\n      <td>LITORAL PIAUIENSE</td>\n      <td>False</td>\n      <td>NaN</td>\n      <td>NaN</td>\n      <td>NaN</td>\n      <td>NaN</td>\n      <td>NaN</td>\n      <td>NaN</td>\n      <td>NaN</td>\n      <td>NaN</td>\n      <td>NaN</td>\n      <td>0.0</td>\n      <td>0.0</td>\n      <td>0.0</td>\n      <td>0.0</td>\n      <td>0.0</td>\n      <td>0.0</td>\n      <td>0.0</td>\n      <td>0.0</td>\n      <td>0.0</td>\n      <td>0.0</td>\n      <td>0.0</td>\n      <td>0.0</td>\n      <td>0.0</td>\n      <td>0.0</td>\n      <td>0.0</td>\n      <td>0.0</td>\n      <td>0.0</td>\n      <td>0.0</td>\n      <td>0.0</td>\n      <td>0.0</td>\n      <td>0.0</td>\n      <td>0.0</td>\n      <td>0.0</td>\n      <td>0.0</td>\n      <td>0.0</td>\n      <td>0.0</td>\n      <td>0.0</td>\n      <td>0.0</td>\n      <td>DE R$ 360.000,01 A R$ 1.500.000,00</td>\n      <td>DE R$ 360.000,01 A R$ 1.500.000,00</td>\n      <td>370915.2</td>\n      <td>1112745.6</td>\n      <td>2</td>\n    </tr>\n    <tr>\n      <th>298951</th>\n      <td>5153413f3a014bba2b8681ae611d4ed5f42d2d52ae6cb2...</td>\n      <td>1</td>\n      <td>EMPRESARIO INDIVIDUAL</td>\n      <td>PI</td>\n      <td>OUTROS</td>\n      <td>COMERCIO VAREJISTA</td>\n      <td>COMERCIO</td>\n      <td>49.816438</td>\n      <td>&gt; 20</td>\n      <td>0</td>\n      <td>0</td>\n      <td>0</td>\n      <td>0</td>\n      <td>0</td>\n      <td>2005-11-03</td>\n      <td>0</td>\n      <td>0</td>\n      <td>0</td>\n      <td>NAO</td>\n      <td>COMERCIO VAREJISTA</td>\n      <td>COMERCIO; REPARACAO DE VEICULOS AUTOMOTORES E ...</td>\n      <td>False</td>\n      <td>False</td>\n      <td>False</td>\n      <td>False</td>\n      <td>0.0</td>\n      <td>0.0</td>\n      <td>False</td>\n      <td>PI</td>\n      <td>AMARELO</td>\n      <td>ACIMA DE 1 ANO</td>\n      <td>22.0</td>\n      <td>MEDIA</td>\n      <td>False</td>\n      <td>1960.54</td>\n      <td>NORTE PIAUIENSE</td>\n      <td>LITORAL PIAUIENSE</td>\n      <td>False</td>\n      <td>1.0</td>\n      <td>1.0</td>\n      <td>0.0</td>\n      <td>NaN</td>\n      <td>NaN</td>\n      <td>NaN</td>\n      <td>NaN</td>\n      <td>NaN</td>\n      <td>NaN</td>\n      <td>0.0</td>\n      <td>0.0</td>\n      <td>0.0</td>\n      <td>0.0</td>\n      <td>0.0</td>\n      <td>0.0</td>\n      <td>0.0</td>\n      <td>0.0</td>\n      <td>0.0</td>\n      <td>0.0</td>\n      <td>0.0</td>\n      <td>0.0</td>\n      <td>0.0</td>\n      <td>0.0</td>\n      <td>0.0</td>\n      <td>0.0</td>\n      <td>0.0</td>\n      <td>0.0</td>\n      <td>0.0</td>\n      <td>0.0</td>\n      <td>0.0</td>\n      <td>0.0</td>\n      <td>0.0</td>\n      <td>0.0</td>\n      <td>0.0</td>\n      <td>0.0</td>\n      <td>0.0</td>\n      <td>0.0</td>\n      <td>DE R$ 81.000,01 A R$ 360.000,00</td>\n      <td>DE R$ 81.000,01 A R$ 360.000,00</td>\n      <td>210000.0</td>\n      <td>210000.0</td>\n      <td>0</td>\n    </tr>\n  </tbody>\n</table>\n</div>"
     },
     "metadata": {},
     "execution_count": 3
    }
   ],
   "source": [
    "X.sample(5)"
   ]
  },
  {
   "cell_type": "markdown",
   "metadata": {},
   "source": [
    "## Features categóricas"
   ]
  },
  {
   "cell_type": "code",
   "execution_count": 4,
   "metadata": {},
   "outputs": [],
   "source": [
    "from sklearn.pipeline import Pipeline\n",
    "from sklearn.preprocessing import OneHotEncoder\n",
    "from sklearn.impute import SimpleImputer, KNNImputer"
   ]
  },
  {
   "cell_type": "code",
   "execution_count": 17,
   "metadata": {},
   "outputs": [],
   "source": [
    "cat_features = [*X.select_dtypes(include='object').columns]\n",
    "cat_features.remove('id')\n",
    "cat_features.remove('dt_situacao')\n",
    "\n",
    "cat_imputer = SimpleImputer(strategy='most_frequent', missing_values=None)\n",
    "cat_encoder = OneHotEncoder(handle_unknown='ignore', sparse=True)"
   ]
  },
  {
   "cell_type": "code",
   "execution_count": 18,
   "metadata": {},
   "outputs": [],
   "source": [
    "cat_transformer = Pipeline([\n",
    "    ('cat_imp', cat_imputer),\n",
    "    ('cat_enc', cat_encoder)\n",
    "])"
   ]
  },
  {
   "cell_type": "markdown",
   "metadata": {},
   "source": [
    "## Features numéricas"
   ]
  },
  {
   "cell_type": "code",
   "execution_count": 7,
   "metadata": {},
   "outputs": [],
   "source": [
    "from sklearn.preprocessing import StandardScaler"
   ]
  },
  {
   "cell_type": "code",
   "execution_count": 8,
   "metadata": {},
   "outputs": [],
   "source": [
    "# todas as features numéricas\n",
    "num_features = [*X.select_dtypes(exclude='object').columns]"
   ]
  },
  {
   "cell_type": "code",
   "execution_count": 9,
   "metadata": {},
   "outputs": [],
   "source": [
    "# features numéricas: 2 estratégias para dados faltantes, de acordo com a análise exploratória\n",
    "\n",
    "# características da empresa\n",
    "nu1_features = [i for i in num_features if str.startswith(i, 'fl_')]\n",
    "nu1_imputer = SimpleImputer(strategy='most_frequent')\n",
    "nu1_scaler = StandardScaler()\n",
    "\n",
    "nu1_transformer = Pipeline([\n",
    "    ('nu1_imp', nu1_imputer),\n",
    "    ('nu1_sca', nu1_scaler)\n",
    "])\n",
    "\n",
    "# quantidades de coligadas\n",
    "nu2_features = [i for i in num_features if str.startswith(i, 'qt_colig')]\n",
    "nu2_imputer = SimpleImputer(strategy='constant', fill_value=0)\n",
    "\n",
    "nu2_transformer = Pipeline([\n",
    "    ('nu2_imp', nu2_imputer)\n",
    "])\n",
    "\n",
    "# demais numéricas\n",
    "nu3_features = list(set(num_features) - set(nu1_features) - set(nu2_features))\n",
    "\n",
    "nu3_imputer = SimpleImputer(strategy='mean')\n",
    "nu3_scaler = StandardScaler()\n",
    "\n",
    "nu3_transformer = Pipeline([\n",
    "    ('nu3_imp', nu1_imputer),\n",
    "    ('nu3_sca', nu1_scaler)\n",
    "])\n"
   ]
  },
  {
   "cell_type": "markdown",
   "metadata": {},
   "source": [
    "## Consolidado"
   ]
  },
  {
   "cell_type": "code",
   "execution_count": 10,
   "metadata": {},
   "outputs": [],
   "source": [
    "from sklearn.compose import ColumnTransformer"
   ]
  },
  {
   "cell_type": "code",
   "execution_count": 19,
   "metadata": {},
   "outputs": [],
   "source": [
    "data_transformer = ColumnTransformer([\n",
    "    ('cat_tr', cat_transformer, cat_features),\n",
    "    ('nu1_tr', nu1_transformer, nu1_features),\n",
    "    ('nu2_tr', nu2_transformer, nu2_features),\n",
    "    ('nu3_tr', nu3_transformer, nu3_features)\n",
    "], remainder='drop')"
   ]
  },
  {
   "cell_type": "markdown",
   "metadata": {},
   "source": [
    "# Modelo"
   ]
  },
  {
   "cell_type": "code",
   "execution_count": 12,
   "metadata": {},
   "outputs": [],
   "source": [
    "from sklearn.neighbors import NearestNeighbors"
   ]
  },
  {
   "cell_type": "code",
   "execution_count": 13,
   "metadata": {},
   "outputs": [],
   "source": [
    "knn_model = NearestNeighbors(metric='cosine', algorithm='auto', n_neighbors=10, n_jobs=-1)"
   ]
  },
  {
   "cell_type": "code",
   "execution_count": 20,
   "metadata": {},
   "outputs": [],
   "source": [
    "pipe = Pipeline([\n",
    "    ('data_tr', data_transformer),\n",
    "    ('model', knn_model)\n",
    "])"
   ]
  },
  {
   "cell_type": "code",
   "execution_count": 23,
   "metadata": {},
   "outputs": [
    {
     "output_type": "execute_result",
     "data": {
      "text/plain": "Pipeline(steps=[('data_tr',\n                 ColumnTransformer(transformers=[('cat_tr',\n                                                  Pipeline(steps=[('cat_imp',\n                                                                   SimpleImputer(missing_values=None,\n                                                                                 strategy='most_frequent')),\n                                                                  ('cat_enc',\n                                                                   OneHotEncoder(handle_unknown='ignore'))]),\n                                                  ['de_natureza_juridica',\n                                                   'sg_uf',\n                                                   'natureza_juridica_macro',\n                                                   'de_ramo', 'setor',\n                                                   'idade_emp_cat', 'fl_rm',\n                                                   'nm_divisao', 'nm_segmento',\n                                                   'fl_spa', 'fl_...\n                                                   'vl_total_veiculos_pesados_grupo',\n                                                   'vl_faturamento_estimado_grupo_aux',\n                                                   'nu_meses_rescencia',\n                                                   'qt_socios_feminino',\n                                                   'vl_total_veiculos_leves_grupo',\n                                                   'qt_socios_pj',\n                                                   'empsetorcensitariofaixarendapopulacao',\n                                                   'idade_minima_socios',\n                                                   'qt_filiais',\n                                                   'qt_socios_st_regular',\n                                                   'idade_maxima_socios',\n                                                   'idade_media_socios'])])),\n                ('model',\n                 NearestNeighbors(metric='cosine', n_jobs=-1, n_neighbors=10))])"
     },
     "metadata": {},
     "execution_count": 23
    }
   ],
   "source": [
    "pipe.fit(X)"
   ]
  },
  {
   "cell_type": "markdown",
   "metadata": {},
   "source": [
    "# Pickling"
   ]
  },
  {
   "cell_type": "code",
   "execution_count": 24,
   "metadata": {},
   "outputs": [
    {
     "output_type": "execute_result",
     "data": {
      "text/plain": "['../model.joblib']"
     },
     "metadata": {},
     "execution_count": 24
    }
   ],
   "source": [
    "# exporta o modelo treinado\n",
    "joblib.dump(pipe, '../model.joblib')"
   ]
  }
 ],
 "metadata": {
  "kernelspec": {
   "display_name": "Python 3",
   "language": "python",
   "name": "python3"
  },
  "language_info": {
   "codemirror_mode": {
    "name": "ipython",
    "version": 3
   },
   "file_extension": ".py",
   "mimetype": "text/x-python",
   "name": "python",
   "nbconvert_exporter": "python",
   "pygments_lexer": "ipython3",
   "version": "3.8.3-final"
  }
 },
 "nbformat": 4,
 "nbformat_minor": 2
}