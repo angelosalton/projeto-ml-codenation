{
 "cells": [
  {
   "cell_type": "markdown",
   "metadata": {},
   "source": [
    "Angelo Salton <gsalton4@hotmail.com>\n",
    "\n",
    "# Setup"
   ]
  },
  {
   "cell_type": "code",
   "execution_count": 1,
   "metadata": {},
   "outputs": [],
   "source": [
    "import pandas as pd\n",
    "import numpy as np\n",
    "import joblib\n",
    "\n",
    "from ipywidgets import interact\n",
    "import matplotlib.pyplot as plt\n",
    "\n",
    "pd.set_option('display.max_columns', 500)\n",
    "pd.set_option('display.max_rows', 500)"
   ]
  },
  {
   "cell_type": "markdown",
   "metadata": {},
   "source": [
    "# Pré-processamento dos dados"
   ]
  },
  {
   "cell_type": "code",
   "execution_count": 2,
   "metadata": {},
   "outputs": [],
   "source": [
    "# salvar em formato Parquet\n",
    "#X = pd.read_csv('../data/estaticos_market.csv')\n",
    "#X.drop(columns='Unnamed: 0', inplace=True)"
   ]
  },
  {
   "cell_type": "code",
   "execution_count": 3,
   "metadata": {},
   "outputs": [],
   "source": [
    "# amostra\n",
    "#X = X.sample(5000)"
   ]
  },
  {
   "cell_type": "code",
   "execution_count": 4,
   "metadata": {},
   "outputs": [],
   "source": [
    "# convert bool to int\n",
    "#bool_cols = [*X.select_dtypes(include='bool').columns]\n",
    "#X[bool_cols] = X[bool_cols].astype('int')"
   ]
  },
  {
   "cell_type": "code",
   "execution_count": 61,
   "metadata": {},
   "outputs": [],
   "source": [
    "#X.to_parquet('../data/estaticos_market.parquet')\n",
    "X = pd.read_parquet('../data/estaticos_market.parquet')"
   ]
  },
  {
   "cell_type": "code",
   "execution_count": 62,
   "metadata": {},
   "outputs": [
    {
     "output_type": "execute_result",
     "data": {
      "text/plain": "           NaN                     NaN   \n19698                  NaN                    NaN                     NaN   \n91708                  NaN                    NaN                     NaN   \n286885                 NaN                    NaN                     NaN   \n\n        qt_socios_pj_inaptos  vl_idade_media_socios_pj  \\\n12969                    NaN                       NaN   \n191264                   NaN                       NaN   \n19698                    NaN                       NaN   \n91708                    NaN                       NaN   \n286885                   NaN                       NaN   \n\n        vl_idade_maxima_socios_pj  vl_idade_minima_socios_pj  qt_coligados  \\\n12969                         NaN                        NaN           NaN   \n191264                        NaN                        NaN           NaN   \n19698                         NaN                        NaN           NaN   \n91708                         NaN                        NaN           NaN   \n286885                        NaN                        NaN           NaN   \n\n        qt_socios_coligados  qt_coligados_matriz  qt_coligados_ativo  \\\n12969                   NaN                  NaN                 NaN   \n191264                  NaN                  NaN                 NaN   \n19698                   NaN                  NaN                 NaN   \n91708                   NaN                  NaN                 NaN   \n286885                  NaN                  NaN                 NaN   \n\n        qt_coligados_baixada  qt_coligados_inapta  qt_coligados_suspensa  \\\n12969                    NaN                  NaN                    NaN   \n191264                   NaN                  NaN                    NaN   \n19698                    NaN                  NaN                    NaN   \n91708                    NaN                  NaN                    NaN   \n286885                   NaN                  NaN                    NaN   \n\n        qt_coligados_nula  idade_media_coligadas  idade_maxima_coligadas  \\\n12969                 NaN                    NaN                     NaN   \n191264                NaN                    NaN                     NaN   \n19698                 NaN                    NaN                     NaN   \n91708                 NaN                    NaN                     NaN   \n286885                NaN                    NaN                     NaN   \n\n        idade_minima_coligadas  coligada_mais_nova_ativa  \\\n12969                      NaN                       NaN   \n191264                     NaN                       NaN   \n19698                      NaN                       NaN   \n91708                      NaN                       NaN   \n286885                     NaN                       NaN   \n\n        coligada_mais_antiga_ativa  idade_media_coligadas_ativas  \\\n12969                          NaN                           NaN   \n191264                         NaN                           NaN   \n19698                          NaN                           NaN   \n91708                          NaN                           NaN   \n286885                         NaN                           NaN   \n\n        coligada_mais_nova_baixada  coligada_mais_antiga_baixada  \\\n12969                          NaN                           NaN   \n191264                         NaN                           NaN   \n19698                          NaN                           NaN   \n91708                          NaN                           NaN   \n286885                         NaN                           NaN   \n\n        idade_media_coligadas_baixadas  qt_coligados_sa  qt_coligados_me  \\\n12969                              NaN              NaN              NaN   \n191264                             NaN              NaN              NaN   \n19698                              NaN              NaN              NaN   \n91708                              NaN              NaN              NaN   \n286885                             NaN              NaN              NaN   \n\n        qt_coligados_mei  qt_coligados_ltda  qt_coligados_epp  \\\n12969                NaN                NaN               NaN   \n191264               NaN                NaN               NaN   \n19698                NaN                NaN               NaN   \n91708                NaN                NaN               NaN   \n286885               NaN                NaN               NaN   \n\n        qt_coligados_norte  qt_coligados_sul  qt_coligados_nordeste  \\\n12969                  NaN               NaN                    NaN   \n191264                 NaN               NaN                    NaN   \n19698                  NaN               NaN                    NaN   \n91708                  NaN               NaN                    NaN   \n286885                 NaN               NaN                    NaN   \n\n        qt_coligados_centro  qt_coligados_sudeste  qt_coligados_exterior  \\\n12969                   NaN                   NaN                    NaN   \n191264                  NaN                   NaN                    NaN   \n19698                   NaN                   NaN                    NaN   \n91708                   NaN                   NaN                    NaN   \n286885                  NaN                   NaN                    NaN   \n\n        qt_ufs_coligados  qt_regioes_coligados  qt_ramos_coligados  \\\n12969                NaN                   NaN                 NaN   \n191264               NaN                   NaN                 NaN   \n19698                NaN                   NaN                 NaN   \n91708                NaN                   NaN                 NaN   \n286885               NaN                   NaN                 NaN   \n\n        qt_coligados_industria  qt_coligados_agropecuaria  \\\n12969                      NaN                        NaN   \n191264                     NaN                        NaN   \n19698                      NaN                        NaN   \n91708                      NaN                        NaN   \n286885                     NaN                        NaN   \n\n        qt_coligados_comercio  qt_coligados_serviço  qt_coligados_ccivil  \\\n12969                     NaN                   NaN                  NaN   \n191264                    NaN                   NaN                  NaN   \n19698                     NaN                   NaN                  NaN   \n91708                     NaN                   NaN                  NaN   \n286885                    NaN                   NaN                  NaN   \n\n        qt_funcionarios_coligados  qt_funcionarios_coligados_gp  \\\n12969                         NaN                           NaN   \n191264                        NaN                           NaN   \n19698                         NaN                           NaN   \n91708                         NaN                           NaN   \n286885                        NaN                           NaN   \n\n        media_funcionarios_coligados_gp  max_funcionarios_coligados_gp  \\\n12969                               NaN                            NaN   \n191264                              NaN                            NaN   \n19698                               NaN                            NaN   \n91708                               NaN                            NaN   \n286885                              NaN                            NaN   \n\n        min_funcionarios_coligados_gp  vl_folha_coligados  \\\n12969                             NaN                 NaN   \n191264                            NaN                 NaN   \n19698                             NaN                 NaN   \n91708                             NaN                 NaN   \n286885                            NaN                 NaN   \n\n        media_vl_folha_coligados  max_vl_folha_coligados  \\\n12969                        NaN                     NaN   \n191264                       NaN                     NaN   \n19698                        NaN                     NaN   \n91708                        NaN                     NaN   \n286885                       NaN                     NaN   \n\n        min_vl_folha_coligados  vl_folha_coligados_gp  \\\n12969                      NaN                    NaN   \n191264                     NaN                    NaN   \n19698                      NaN                    NaN   \n91708                      NaN                    NaN   \n286885                     NaN                    NaN   \n\n        media_vl_folha_coligados_gp  max_vl_folha_coligados_gp  \\\n12969                           NaN                        NaN   \n191264                          NaN                        NaN   \n19698                           NaN                        NaN   \n91708                           NaN                        NaN   \n286885                          NaN                        NaN   \n\n        min_vl_folha_coligados_gp  faturamento_est_coligados  \\\n12969                         NaN                        NaN   \n191264                        NaN                        NaN   \n19698                         NaN                        NaN   \n91708                         NaN                        NaN   \n286885                        NaN                        NaN   \n\n        media_faturamento_est_coligados  max_faturamento_est_coligados  \\\n12969                               NaN                            NaN   \n191264                              NaN                            NaN   \n19698                               NaN                            NaN   \n91708                               NaN                            NaN   \n286885                              NaN                            NaN   \n\n        min_faturamento_est_coligados  faturamento_est_coligados_gp  \\\n12969                             NaN                           NaN   \n191264                            NaN                           NaN   \n19698                             NaN                           NaN   \n91708                             NaN                           NaN   \n286885                            NaN                           NaN   \n\n        media_faturamento_est_coligados_gp  max_faturamento_est_coligados_gp  \\\n12969                                  NaN                               NaN   \n191264                                 NaN                               NaN   \n19698                                  NaN                               NaN   \n91708                                  NaN                               NaN   \n286885                                 NaN                               NaN   \n\n        min_faturamento_est_coligados_gp  total_filiais_coligados  \\\n12969                                NaN                      NaN   \n191264                               NaN                      NaN   \n19698                                NaN                      NaN   \n91708                                NaN                      NaN   \n286885                               NaN                      NaN   \n\n        media_filiais_coligados  max_filiais_coligados  min_filiais_coligados  \\\n12969                       NaN                    NaN                    NaN   \n191264                      NaN                    NaN                    NaN   \n19698                       NaN                    NaN                    NaN   \n91708                       NaN                    NaN                    NaN   \n286885                      NaN                    NaN                    NaN   \n\n        qt_coligados_atividade_alto  qt_coligados_atividade_medio  \\\n12969                           NaN                           NaN   \n191264                          NaN                           NaN   \n19698                           NaN                           NaN   \n91708                           NaN                           NaN   \n286885                          NaN                           NaN   \n\n        qt_coligados_atividade_baixo  qt_coligados_atividade_mt_baixo  \\\n12969                            NaN                              NaN   \n191264                           NaN                              NaN   \n19698                            NaN                              NaN   \n91708                            NaN                              NaN   \n286885                           NaN                              NaN   \n\n        qt_coligados_atividade_inativo  qt_coligadas  \\\n12969                              NaN           NaN   \n191264                             NaN           NaN   \n19698                              NaN           NaN   \n91708                              NaN           NaN   \n286885                             NaN           NaN   \n\n        sum_faturamento_estimado_coligadas    de_faixa_faturamento_estimado  \\\n12969                                  NaN                             None   \n191264                                 NaN  DE R$ 81.000,01 A R$ 360.000,00   \n19698                                  NaN                 ATE R$ 81.000,00   \n91708                                  NaN  DE R$ 81.000,01 A R$ 360.000,00   \n286885                                 NaN                             None   \n\n       de_faixa_faturamento_estimado_grupo  vl_faturamento_estimado_aux  \\\n12969                                 None                          NaN   \n191264     DE R$ 81.000,01 A R$ 360.000,00                     210000.0   \n19698                     ATE R$ 81.000,00                      50000.0   \n91708      DE R$ 81.000,01 A R$ 360.000,00                     210000.0   \n286885                                None                          NaN   \n\n        vl_faturamento_estimado_grupo_aux  qt_ex_funcionarios  \\\n12969                                 NaN                 NaN   \n191264                           210000.0                 NaN   \n19698                             50000.0                 NaN   \n91708                            210000.0                 2.0   \n286885                                NaN                 NaN   \n\n        qt_funcionarios_grupo  percent_func_genero_masc  \\\n12969                     NaN                       NaN   \n191264                    NaN                       NaN   \n19698                     NaN                       NaN   \n91708                     0.0                       NaN   \n286885                    NaN                       NaN   \n\n        percent_func_genero_fem  idade_ate_18  idade_de_19_a_23  \\\n12969                       NaN           NaN               NaN   \n191264                      NaN           NaN               NaN   \n19698                       NaN           NaN               NaN   \n91708                       NaN           NaN               NaN   \n286885                      NaN           NaN               NaN   \n\n        idade_de_24_a_28  idade_de_29_a_33  idade_de_34_a_38  \\\n12969                NaN               NaN               NaN   \n191264               NaN               NaN               NaN   \n19698                NaN               NaN               NaN   \n91708                NaN               NaN               NaN   \n286885               NaN               NaN               NaN   \n\n        idade_de_39_a_43  idade_de_44_a_48  idade_de_49_a_53  \\\n12969                NaN               NaN               NaN   \n191264               NaN               NaN               NaN   \n19698                NaN               NaN               NaN   \n91708                NaN               NaN               NaN   \n286885               NaN               NaN               NaN   \n\n        idade_de_54_a_58  idade_acima_de_58  grau_instrucao_macro_analfabeto  \\\n12969                NaN                NaN                              NaN   \n191264               NaN                NaN                              NaN   \n19698                NaN                NaN                              NaN   \n91708                NaN                NaN                              NaN   \n286885               NaN                NaN                              NaN   \n\n        grau_instrucao_macro_escolaridade_fundamental  \\\n12969                                             NaN   \n191264                                            NaN   \n19698                                             NaN   \n91708                                             NaN   \n286885                                            NaN   \n\n        grau_instrucao_macro_escolaridade_media  \\\n12969                                       NaN   \n191264                                      NaN   \n19698                                       NaN   \n91708                                       NaN   \n286885                                      NaN   \n\n        grau_instrucao_macro_escolaridade_superior  \\\n12969                                          NaN   \n191264                                         NaN   \n19698                                          NaN   \n91708                                          NaN   \n286885                                         NaN   \n\n        grau_instrucao_macro_desconhecido  total  meses_ultima_contratacaco  \\\n12969                                 NaN    NaN                        NaN   \n191264                                NaN    NaN                        NaN   \n19698                                 NaN    NaN                        NaN   \n91708                                 NaN    NaN                       99.3   \n286885                                NaN    NaN                        NaN   \n\n        qt_admitidos_12meses  qt_desligados_12meses  qt_desligados  \\\n12969                    NaN                    NaN            NaN   \n191264                   NaN                    NaN            NaN   \n19698                    NaN                    NaN            NaN   \n91708                    0.0                    0.0            2.0   \n286885                   NaN                    NaN            NaN   \n\n        qt_admitidos  media_meses_servicos_all  max_meses_servicos_all  \\\n12969            NaN                       NaN                     NaN   \n191264           NaN                       NaN                     NaN   \n19698            NaN                       NaN                     NaN   \n91708            2.0                      43.1                    63.9   \n286885           NaN                       NaN                     NaN   \n\n        min_meses_servicos_all  media_meses_servicos  max_meses_servicos  \\\n12969                      NaN                   NaN                 NaN   \n191264                     NaN                   NaN                 NaN   \n19698                      NaN                   NaN                 NaN   \n91708                     22.3                   NaN                 NaN   \n286885                     NaN                   NaN                 NaN   \n\n        min_meses_servicos  qt_funcionarios  qt_funcionarios_12meses  \\\n12969                  NaN              NaN                      NaN   \n191264                 NaN              NaN                      NaN   \n19698                  NaN              NaN                      NaN   \n91708                  NaN              0.0                      0.0   \n286885                 NaN              NaN                      NaN   \n\n        qt_funcionarios_24meses  tx_crescimento_12meses  \\\n12969                       NaN                     NaN   \n191264                      NaN                     NaN   \n19698                       NaN                     NaN   \n91708                       0.0                     NaN   \n286885                      NaN                     NaN   \n\n        tx_crescimento_24meses  tx_rotatividade  qt_filiais  \n12969                      NaN              NaN           0  \n191264                     NaN              NaN           0  \n19698                      NaN              NaN           0  \n91708                      NaN              0.0           0  \n286885                     NaN              NaN           0  ",
      "text/html": "<div>\n<style scoped>\n    .dataframe tbody tr th:only-of-type {\n        vertical-align: middle;\n    }\n\n    .dataframe tbody tr th {\n        vertical-align: top;\n    }\n\n    .dataframe thead th {\n        text-align: right;\n    }\n</style>\n<table border=\"1\" class=\"dataframe\">\n  <thead>\n    <tr style=\"text-align: right;\">\n      <th></th>\n      <th>id</th>\n      <th>fl_matriz</th>\n      <th>de_natureza_juridica</th>\n      <th>sg_uf</th>\n      <th>natureza_juridica_macro</th>\n      <th>de_ramo</th>\n      <th>setor</th>\n      <th>idade_empresa_anos</th>\n      <th>idade_emp_cat</th>\n      <th>fl_me</th>\n      <th>fl_sa</th>\n      <th>fl_epp</th>\n      <th>fl_mei</th>\n      <th>fl_ltda</th>\n      <th>dt_situacao</th>\n      <th>fl_st_especial</th>\n      <th>fl_email</th>\n      <th>fl_telefone</th>\n      <th>fl_rm</th>\n      <th>nm_divisao</th>\n      <th>nm_segmento</th>\n      <th>fl_spa</th>\n      <th>fl_antt</th>\n      <th>fl_veiculo</th>\n      <th>vl_total_tancagem</th>\n      <th>vl_total_veiculos_antt</th>\n      <th>vl_total_veiculos_leves</th>\n      <th>vl_total_veiculos_pesados</th>\n      <th>fl_optante_simples</th>\n      <th>qt_art</th>\n      <th>vl_total_veiculos_pesados_grupo</th>\n      <th>vl_total_veiculos_leves_grupo</th>\n      <th>vl_total_tancagem_grupo</th>\n      <th>vl_total_veiculos_antt_grupo</th>\n      <th>vl_potenc_cons_oleo_gas</th>\n      <th>fl_optante_simei</th>\n      <th>sg_uf_matriz</th>\n      <th>de_saude_tributaria</th>\n      <th>de_saude_rescencia</th>\n      <th>nu_meses_rescencia</th>\n      <th>de_nivel_atividade</th>\n      <th>de_indicador_telefone</th>\n      <th>fl_simples_irregular</th>\n      <th>vl_frota</th>\n      <th>empsetorcensitariofaixarendapopulacao</th>\n      <th>nm_meso_regiao</th>\n      <th>nm_micro_regiao</th>\n      <th>fl_passivel_iss</th>\n      <th>qt_socios</th>\n      <th>qt_socios_pf</th>\n      <th>qt_socios_pj</th>\n      <th>idade_media_socios</th>\n      <th>idade_maxima_socios</th>\n      <th>idade_minima_socios</th>\n      <th>qt_socios_st_regular</th>\n      <th>qt_socios_st_suspensa</th>\n      <th>qt_socios_masculino</th>\n      <th>qt_socios_feminino</th>\n      <th>qt_socios_pep</th>\n      <th>qt_alteracao_socio_total</th>\n      <th>qt_alteracao_socio_90d</th>\n      <th>qt_alteracao_socio_180d</th>\n      <th>qt_alteracao_socio_365d</th>\n      <th>qt_socios_pj_ativos</th>\n      <th>qt_socios_pj_nulos</th>\n      <th>qt_socios_pj_baixados</th>\n      <th>qt_socios_pj_suspensos</th>\n      <th>qt_socios_pj_inaptos</th>\n      <th>vl_idade_media_socios_pj</th>\n      <th>vl_idade_maxima_socios_pj</th>\n      <th>vl_idade_minima_socios_pj</th>\n      <th>qt_coligados</th>\n      <th>qt_socios_coligados</th>\n      <th>qt_coligados_matriz</th>\n      <th>qt_coligados_ativo</th>\n      <th>qt_coligados_baixada</th>\n      <th>qt_coligados_inapta</th>\n      <th>qt_coligados_suspensa</th>\n      <th>qt_coligados_nula</th>\n      <th>idade_media_coligadas</th>\n      <th>idade_maxima_coligadas</th>\n      <th>idade_minima_coligadas</th>\n      <th>coligada_mais_nova_ativa</th>\n      <th>coligada_mais_antiga_ativa</th>\n      <th>idade_media_coligadas_ativas</th>\n      <th>coligada_mais_nova_baixada</th>\n      <th>coligada_mais_antiga_baixada</th>\n      <th>idade_media_coligadas_baixadas</th>\n      <th>qt_coligados_sa</th>\n      <th>qt_coligados_me</th>\n      <th>qt_coligados_mei</th>\n      <th>qt_coligados_ltda</th>\n      <th>qt_coligados_epp</th>\n      <th>qt_coligados_norte</th>\n      <th>qt_coligados_sul</th>\n      <th>qt_coligados_nordeste</th>\n      <th>qt_coligados_centro</th>\n      <th>qt_coligados_sudeste</th>\n      <th>qt_coligados_exterior</th>\n      <th>qt_ufs_coligados</th>\n      <th>qt_regioes_coligados</th>\n      <th>qt_ramos_coligados</th>\n      <th>qt_coligados_industria</th>\n      <th>qt_coligados_agropecuaria</th>\n      <th>qt_coligados_comercio</th>\n      <th>qt_coligados_serviço</th>\n      <th>qt_coligados_ccivil</th>\n      <th>qt_funcionarios_coligados</th>\n      <th>qt_funcionarios_coligados_gp</th>\n      <th>media_funcionarios_coligados_gp</th>\n      <th>max_funcionarios_coligados_gp</th>\n      <th>min_funcionarios_coligados_gp</th>\n      <th>vl_folha_coligados</th>\n      <th>media_vl_folha_coligados</th>\n      <th>max_vl_folha_coligados</th>\n      <th>min_vl_folha_coligados</th>\n      <th>vl_folha_coligados_gp</th>\n      <th>media_vl_folha_coligados_gp</th>\n      <th>max_vl_folha_coligados_gp</th>\n      <th>min_vl_folha_coligados_gp</th>\n      <th>faturamento_est_coligados</th>\n      <th>media_faturamento_est_coligados</th>\n      <th>max_faturamento_est_coligados</th>\n      <th>min_faturamento_est_coligados</th>\n      <th>faturamento_est_coligados_gp</th>\n      <th>media_faturamento_est_coligados_gp</th>\n      <th>max_faturamento_est_coligados_gp</th>\n      <th>min_faturamento_est_coligados_gp</th>\n      <th>total_filiais_coligados</th>\n      <th>media_filiais_coligados</th>\n      <th>max_filiais_coligados</th>\n      <th>min_filiais_coligados</th>\n      <th>qt_coligados_atividade_alto</th>\n      <th>qt_coligados_atividade_medio</th>\n      <th>qt_coligados_atividade_baixo</th>\n      <th>qt_coligados_atividade_mt_baixo</th>\n      <th>qt_coligados_atividade_inativo</th>\n      <th>qt_coligadas</th>\n      <th>sum_faturamento_estimado_coligadas</th>\n      <th>de_faixa_faturamento_estimado</th>\n      <th>de_faixa_faturamento_estimado_grupo</th>\n      <th>vl_faturamento_estimado_aux</th>\n      <th>vl_faturamento_estimado_grupo_aux</th>\n      <th>qt_ex_funcionarios</th>\n      <th>qt_funcionarios_grupo</th>\n      <th>percent_func_genero_masc</th>\n      <th>percent_func_genero_fem</th>\n      <th>idade_ate_18</th>\n      <th>idade_de_19_a_23</th>\n      <th>idade_de_24_a_28</th>\n      <th>idade_de_29_a_33</th>\n      <th>idade_de_34_a_38</th>\n      <th>idade_de_39_a_43</th>\n      <th>idade_de_44_a_48</th>\n      <th>idade_de_49_a_53</th>\n      <th>idade_de_54_a_58</th>\n      <th>idade_acima_de_58</th>\n      <th>grau_instrucao_macro_analfabeto</th>\n      <th>grau_instrucao_macro_escolaridade_fundamental</th>\n      <th>grau_instrucao_macro_escolaridade_media</th>\n      <th>grau_instrucao_macro_escolaridade_superior</th>\n      <th>grau_instrucao_macro_desconhecido</th>\n      <th>total</th>\n      <th>meses_ultima_contratacaco</th>\n      <th>qt_admitidos_12meses</th>\n      <th>qt_desligados_12meses</th>\n      <th>qt_desligados</th>\n      <th>qt_admitidos</th>\n      <th>media_meses_servicos_all</th>\n      <th>max_meses_servicos_all</th>\n      <th>min_meses_servicos_all</th>\n      <th>media_meses_servicos</th>\n      <th>max_meses_servicos</th>\n      <th>min_meses_servicos</th>\n      <th>qt_funcionarios</th>\n      <th>qt_funcionarios_12meses</th>\n      <th>qt_funcionarios_24meses</th>\n      <th>tx_crescimento_12meses</th>\n      <th>tx_crescimento_24meses</th>\n      <th>tx_rotatividade</th>\n      <th>qt_filiais</th>\n    </tr>\n  </thead>\n  <tbody>\n    <tr>\n      <th>12969</th>\n      <td>2090841fe21a4a0d0aa010fda348394236de92724f9e62...</td>\n      <td>1</td>\n      <td>EMPRESARIO INDIVIDUAL</td>\n      <td>RO</td>\n      <td>OUTROS</td>\n      <td>COMERCIO E REPARACAO DE VEICULOS</td>\n      <td>COMERCIO</td>\n      <td>0.180822</td>\n      <td>&lt;= 1</td>\n      <td>0</td>\n      <td>0</td>\n      <td>0</td>\n      <td>1</td>\n      <td>0</td>\n      <td>2018-08-23</td>\n      <td>0</td>\n      <td>0</td>\n      <td>1</td>\n      <td>NAO</td>\n      <td>COMERCIO E REPARACAO DE VEICULOS AUTOMOTORES E...</td>\n      <td>COMERCIO; REPARACAO DE VEICULOS AUTOMOTORES E ...</td>\n      <td>False</td>\n      <td>False</td>\n      <td>False</td>\n      <td>NaN</td>\n      <td>NaN</td>\n      <td>NaN</td>\n      <td>NaN</td>\n      <td>None</td>\n      <td>NaN</td>\n      <td>0.0</td>\n      <td>0.0</td>\n      <td>NaN</td>\n      <td>NaN</td>\n      <td>NaN</td>\n      <td>None</td>\n      <td>RO</td>\n      <td>None</td>\n      <td>None</td>\n      <td>NaN</td>\n      <td>ALTA</td>\n      <td>None</td>\n      <td>False</td>\n      <td>NaN</td>\n      <td>954.82</td>\n      <td>None</td>\n      <td>None</td>\n      <td>False</td>\n      <td>1.0</td>\n      <td>1.0</td>\n      <td>0.0</td>\n      <td>47.0</td>\n      <td>47.0</td>\n      <td>47.0</td>\n      <td>1.0</td>\n      <td>NaN</td>\n      <td>1.0</td>\n      <td>NaN</td>\n      <td>NaN</td>\n      <td>NaN</td>\n      <td>NaN</td>\n      <td>NaN</td>\n      <td>NaN</td>\n      <td>NaN</td>\n      <td>NaN</td>\n      <td>NaN</td>\n      <td>NaN</td>\n      <td>NaN</td>\n      <td>NaN</td>\n      <td>NaN</td>\n      <td>NaN</td>\n      <td>NaN</td>\n      <td>NaN</td>\n      <td>NaN</td>\n      <td>NaN</td>\n      <td>NaN</td>\n      <td>NaN</td>\n      <td>NaN</td>\n      <td>NaN</td>\n      <td>NaN</td>\n      <td>NaN</td>\n      <td>NaN</td>\n      <td>NaN</td>\n      <td>NaN</td>\n      <td>NaN</td>\n      <td>NaN</td>\n      <td>NaN</td>\n      <td>NaN</td>\n      <td>NaN</td>\n      <td>NaN</td>\n      <td>NaN</td>\n      <td>NaN</td>\n      <td>NaN</td>\n      <td>NaN</td>\n      <td>NaN</td>\n      <td>NaN</td>\n      <td>NaN</td>\n      <td>NaN</td>\n      <td>NaN</td>\n      <td>NaN</td>\n      <td>NaN</td>\n      <td>NaN</td>\n      <td>NaN</td>\n      <td>NaN</td>\n      <td>NaN</td>\n      <td>NaN</td>\n      <td>NaN</td>\n      <td>NaN</td>\n      <td>NaN</td>\n      <td>NaN</td>\n      <td>NaN</td>\n      <td>NaN</td>\n      <td>NaN</td>\n      <td>NaN</td>\n      <td>NaN</td>\n      <td>NaN</td>\n      <td>NaN</td>\n      <td>NaN</td>\n      <td>NaN</td>\n      <td>NaN</td>\n      <td>NaN</td>\n      <td>NaN</td>\n      <td>NaN</td>\n      <td>NaN</td>\n      <td>NaN</td>\n      <td>NaN</td>\n      <td>NaN</td>\n      <td>NaN</td>\n      <td>NaN</td>\n      <td>NaN</td>\n      <td>NaN</td>\n      <td>NaN</td>\n      <td>NaN</td>\n      <td>NaN</td>\n      <td>NaN</td>\n      <td>NaN</td>\n      <td>NaN</td>\n      <td>NaN</td>\n      <td>NaN</td>\n      <td>None</td>\n      <td>None</td>\n      <td>NaN</td>\n      <td>NaN</td>\n      <td>NaN</td>\n      <td>NaN</td>\n      <td>NaN</td>\n      <td>NaN</td>\n      <td>NaN</td>\n      <td>NaN</td>\n      <td>NaN</td>\n      <td>NaN</td>\n      <td>NaN</td>\n      <td>NaN</td>\n      <td>NaN</td>\n      <td>NaN</td>\n      <td>NaN</td>\n      <td>NaN</td>\n      <td>NaN</td>\n      <td>NaN</td>\n      <td>NaN</td>\n      <td>NaN</td>\n      <td>NaN</td>\n      <td>NaN</td>\n      <td>NaN</td>\n      <td>NaN</td>\n      <td>NaN</td>\n      <td>NaN</td>\n      <td>NaN</td>\n      <td>NaN</td>\n      <td>NaN</td>\n      <td>NaN</td>\n      <td>NaN</td>\n      <td>NaN</td>\n      <td>NaN</td>\n      <td>NaN</td>\n      <td>NaN</td>\n      <td>NaN</td>\n      <td>NaN</td>\n      <td>NaN</td>\n      <td>NaN</td>\n      <td>0</td>\n    </tr>\n    <tr>\n      <th>191264</th>\n      <td>2433213ba033176a4f587e80453be215316f42a47faaf1...</td>\n      <td>1</td>\n      <td>SOCIEDADE EMPRESARIA LIMITADA</td>\n      <td>RO</td>\n      <td>ENTIDADES EMPRESARIAIS</td>\n      <td>SERVICOS ADMINISTRATIVOS</td>\n      <td>SERVIÇO</td>\n      <td>8.328767</td>\n      <td>5 a 10</td>\n      <td>0</td>\n      <td>0</td>\n      <td>0</td>\n      <td>0</td>\n      <td>0</td>\n      <td>2010-07-02</td>\n      <td>0</td>\n      <td>0</td>\n      <td>1</td>\n      <td>NAO</td>\n      <td>SERVICOS PARA EDIFICIOS E ATIVIDADES PAISAGIST...</td>\n      <td>ATIVIDADES ADMINISTRATIVAS E SERVICOS COMPLEME...</td>\n      <td>False</td>\n      <td>False</td>\n      <td>True</td>\n      <td>NaN</td>\n      <td>NaN</td>\n      <td>1.0</td>\n      <td>0.0</td>\n      <td>True</td>\n      <td>NaN</td>\n      <td>0.0</td>\n      <td>1.0</td>\n      <td>NaN</td>\n      <td>NaN</td>\n      <td>NaN</td>\n      <td>False</td>\n      <td>RO</td>\n      <td>VERDE</td>\n      <td>ACIMA DE 1 ANO</td>\n      <td>22.0</td>\n      <td>MEDIA</td>\n      <td>None</td>\n      <td>False</td>\n      <td>41256.0</td>\n      <td>NaN</td>\n      <td>None</td>\n      <td>None</td>\n      <td>True</td>\n      <td>2.0</td>\n      <td>2.0</td>\n      <td>0.0</td>\n      <td>37.5</td>\n      <td>41.0</td>\n      <td>34.0</td>\n      <td>2.0</td>\n      <td>NaN</td>\n      <td>1.0</td>\n      <td>1.0</td>\n      <td>NaN</td>\n      <td>NaN</td>\n      <td>NaN</td>\n      <td>NaN</td>\n      <td>NaN</td>\n      <td>NaN</td>\n      <td>NaN</td>\n      <td>NaN</td>\n      <td>NaN</td>\n      <td>NaN</td>\n      <td>NaN</td>\n      <td>NaN</td>\n      <td>NaN</td>\n      <td>NaN</td>\n      <td>NaN</td>\n      <td>NaN</td>\n      <td>NaN</td>\n      <td>NaN</td>\n      <td>NaN</td>\n      <td>NaN</td>\n      <td>NaN</td>\n      <td>NaN</td>\n      <td>NaN</td>\n      <td>NaN</td>\n      <td>NaN</td>\n      <td>NaN</td>\n      <td>NaN</td>\n      <td>NaN</td>\n      <td>NaN</td>\n      <td>NaN</td>\n      <td>NaN</td>\n      <td>NaN</td>\n      <td>NaN</td>\n      <td>NaN</td>\n      <td>NaN</td>\n      <td>NaN</td>\n      <td>NaN</td>\n      <td>NaN</td>\n      <td>NaN</td>\n      <td>NaN</td>\n      <td>NaN</td>\n      <td>NaN</td>\n      <td>NaN</td>\n      <td>NaN</td>\n      <td>NaN</td>\n      <td>NaN</td>\n      <td>NaN</td>\n      <td>NaN</td>\n      <td>NaN</td>\n      <td>NaN</td>\n      <td>NaN</td>\n      <td>NaN</td>\n      <td>NaN</td>\n      <td>NaN</td>\n      <td>NaN</td>\n      <td>NaN</td>\n      <td>NaN</td>\n      <td>NaN</td>\n      <td>NaN</td>\n      <td>NaN</td>\n      <td>NaN</td>\n      <td>NaN</td>\n      <td>NaN</td>\n      <td>NaN</td>\n      <td>NaN</td>\n      <td>NaN</td>\n      <td>NaN</td>\n      <td>NaN</td>\n      <td>NaN</td>\n      <td>NaN</td>\n      <td>NaN</td>\n      <td>NaN</td>\n      <td>NaN</td>\n      <td>NaN</td>\n      <td>NaN</td>\n      <td>NaN</td>\n      <td>NaN</td>\n      <td>NaN</td>\n      <td>NaN</td>\n      <td>NaN</td>\n      <td>NaN</td>\n      <td>DE R$ 81.000,01 A R$ 360.000,00</td>\n      <td>DE R$ 81.000,01 A R$ 360.000,00</td>\n      <td>210000.0</td>\n      <td>210000.0</td>\n      <td>NaN</td>\n      <td>NaN</td>\n      <td>NaN</td>\n      <td>NaN</td>\n      <td>NaN</td>\n      <td>NaN</td>\n      <td>NaN</td>\n      <td>NaN</td>\n      <td>NaN</td>\n      <td>NaN</td>\n      <td>NaN</td>\n      <td>NaN</td>\n      <td>NaN</td>\n      <td>NaN</td>\n      <td>NaN</td>\n      <td>NaN</td>\n      <td>NaN</td>\n      <td>NaN</td>\n      <td>NaN</td>\n      <td>NaN</td>\n      <td>NaN</td>\n      <td>NaN</td>\n      <td>NaN</td>\n      <td>NaN</td>\n      <td>NaN</td>\n      <td>NaN</td>\n      <td>NaN</td>\n      <td>NaN</td>\n      <td>NaN</td>\n      <td>NaN</td>\n      <td>NaN</td>\n      <td>NaN</td>\n      <td>NaN</td>\n      <td>NaN</td>\n      <td>NaN</td>\n      <td>NaN</td>\n      <td>NaN</td>\n      <td>0</td>\n    </tr>\n    <tr>\n      <th>19698</th>\n      <td>2257253e13f89fc44db1abd1552a7d4fc33fcf9d66c834...</td>\n      <td>1</td>\n      <td>EMPRESARIO INDIVIDUAL</td>\n      <td>RN</td>\n      <td>OUTROS</td>\n      <td>SERVICOS DIVERSOS</td>\n      <td>SERVIÇO</td>\n      <td>4.326027</td>\n      <td>1 a 5</td>\n      <td>0</td>\n      <td>0</td>\n      <td>0</td>\n      <td>1</td>\n      <td>0</td>\n      <td>2014-07-02</td>\n      <td>0</td>\n      <td>1</td>\n      <td>1</td>\n      <td>SIM</td>\n      <td>REPARACAO E MANUTENCAO DE EQUIPAMENTOS DE INFO...</td>\n      <td>OUTRAS ATIVIDADES DE SERVICOS</td>\n      <td>False</td>\n      <td>False</td>\n      <td>False</td>\n      <td>NaN</td>\n      <td>NaN</td>\n      <td>NaN</td>\n      <td>NaN</td>\n      <td>True</td>\n      <td>NaN</td>\n      <td>0.0</td>\n      <td>0.0</td>\n      <td>NaN</td>\n      <td>NaN</td>\n      <td>NaN</td>\n      <td>True</td>\n      <td>RN</td>\n      <td>AMARELO</td>\n      <td>ACIMA DE 1 ANO</td>\n      <td>49.0</td>\n      <td>MEDIA</td>\n      <td>BOA</td>\n      <td>False</td>\n      <td>NaN</td>\n      <td>2654.52</td>\n      <td>LESTE POTIGUAR</td>\n      <td>NATAL</td>\n      <td>True</td>\n      <td>1.0</td>\n      <td>1.0</td>\n      <td>0.0</td>\n      <td>44.0</td>\n      <td>44.0</td>\n      <td>44.0</td>\n      <td>1.0</td>\n      <td>NaN</td>\n      <td>1.0</td>\n      <td>NaN</td>\n      <td>NaN</td>\n      <td>NaN</td>\n      <td>NaN</td>\n      <td>NaN</td>\n      <td>NaN</td>\n      <td>NaN</td>\n      <td>NaN</td>\n      <td>NaN</td>\n      <td>NaN</td>\n      <td>NaN</td>\n      <td>NaN</td>\n      <td>NaN</td>\n      <td>NaN</td>\n      <td>NaN</td>\n      <td>NaN</td>\n      <td>NaN</td>\n      <td>NaN</td>\n      <td>NaN</td>\n      <td>NaN</td>\n      <td>NaN</td>\n      <td>NaN</td>\n      <td>NaN</td>\n      <td>NaN</td>\n      <td>NaN</td>\n      <td>NaN</td>\n      <td>NaN</td>\n      <td>NaN</td>\n      <td>NaN</td>\n      <td>NaN</td>\n      <td>NaN</td>\n      <td>NaN</td>\n      <td>NaN</td>\n      <td>NaN</td>\n      <td>NaN</td>\n      <td>NaN</td>\n      <td>NaN</td>\n      <td>NaN</td>\n      <td>NaN</td>\n      <td>NaN</td>\n      <td>NaN</td>\n      <td>NaN</td>\n      <td>NaN</td>\n      <td>NaN</td>\n      <td>NaN</td>\n      <td>NaN</td>\n      <td>NaN</td>\n      <td>NaN</td>\n      <td>NaN</td>\n      <td>NaN</td>\n      <td>NaN</td>\n      <td>NaN</td>\n      <td>NaN</td>\n      <td>NaN</td>\n      <td>NaN</td>\n      <td>NaN</td>\n      <td>NaN</td>\n      <td>NaN</td>\n      <td>NaN</td>\n      <td>NaN</td>\n      <td>NaN</td>\n      <td>NaN</td>\n      <td>NaN</td>\n      <td>NaN</td>\n      <td>NaN</td>\n      <td>NaN</td>\n      <td>NaN</td>\n      <td>NaN</td>\n      <td>NaN</td>\n      <td>NaN</td>\n      <td>NaN</td>\n      <td>NaN</td>\n      <td>NaN</td>\n      <td>NaN</td>\n      <td>NaN</td>\n      <td>NaN</td>\n      <td>NaN</td>\n      <td>NaN</td>\n      <td>NaN</td>\n      <td>NaN</td>\n      <td>NaN</td>\n      <td>NaN</td>\n      <td>ATE R$ 81.000,00</td>\n      <td>ATE R$ 81.000,00</td>\n      <td>50000.0</td>\n      <td>50000.0</td>\n      <td>NaN</td>\n      <td>NaN</td>\n      <td>NaN</td>\n      <td>NaN</td>\n      <td>NaN</td>\n      <td>NaN</td>\n      <td>NaN</td>\n      <td>NaN</td>\n      <td>NaN</td>\n      <td>NaN</td>\n      <td>NaN</td>\n      <td>NaN</td>\n      <td>NaN</td>\n      <td>NaN</td>\n      <td>NaN</td>\n      <td>NaN</td>\n      <td>NaN</td>\n      <td>NaN</td>\n      <td>NaN</td>\n      <td>NaN</td>\n      <td>NaN</td>\n      <td>NaN</td>\n      <td>NaN</td>\n      <td>NaN</td>\n      <td>NaN</td>\n      <td>NaN</td>\n      <td>NaN</td>\n      <td>NaN</td>\n      <td>NaN</td>\n      <td>NaN</td>\n      <td>NaN</td>\n      <td>NaN</td>\n      <td>NaN</td>\n      <td>NaN</td>\n      <td>NaN</td>\n      <td>NaN</td>\n      <td>NaN</td>\n      <td>0</td>\n    </tr>\n    <tr>\n      <th>91708</th>\n      <td>fd74b4f696a10f1ca5e549427d953a057bd625085c8d53...</td>\n      <td>1</td>\n      <td>EMPRESARIO INDIVIDUAL</td>\n      <td>MA</td>\n      <td>OUTROS</td>\n      <td>COMERCIO VAREJISTA</td>\n      <td>COMERCIO</td>\n      <td>23.197260</td>\n      <td>&gt; 20</td>\n      <td>0</td>\n      <td>0</td>\n      <td>0</td>\n      <td>0</td>\n      <td>0</td>\n      <td>2005-07-16</td>\n      <td>0</td>\n      <td>0</td>\n      <td>0</td>\n      <td>NAO</td>\n      <td>COMERCIO VAREJISTA</td>\n      <td>COMERCIO; REPARACAO DE VEICULOS AUTOMOTORES E ...</td>\n      <td>False</td>\n      <td>False</td>\n      <td>False</td>\n      <td>NaN</td>\n      <td>NaN</td>\n      <td>NaN</td>\n      <td>NaN</td>\n      <td>True</td>\n      <td>NaN</td>\n      <td>0.0</td>\n      <td>0.0</td>\n      <td>NaN</td>\n      <td>NaN</td>\n      <td>NaN</td>\n      <td>False</td>\n      <td>MA</td>\n      <td>AZUL</td>\n      <td>ACIMA DE 1 ANO</td>\n      <td>21.0</td>\n      <td>BAIXA</td>\n      <td>None</td>\n      <td>False</td>\n      <td>NaN</td>\n      <td>616.16</td>\n      <td>LESTE MARANHENSE</td>\n      <td>CAXIAS</td>\n      <td>False</td>\n      <td>1.0</td>\n      <td>1.0</td>\n      <td>0.0</td>\n      <td>64.0</td>\n      <td>64.0</td>\n      <td>64.0</td>\n      <td>1.0</td>\n      <td>NaN</td>\n      <td>NaN</td>\n      <td>1.0</td>\n      <td>NaN</td>\n      <td>NaN</td>\n      <td>NaN</td>\n      <td>NaN</td>\n      <td>NaN</td>\n      <td>NaN</td>\n      <td>NaN</td>\n      <td>NaN</td>\n      <td>NaN</td>\n      <td>NaN</td>\n      <td>NaN</td>\n      <td>NaN</td>\n      <td>NaN</td>\n      <td>NaN</td>\n      <td>NaN</td>\n      <td>NaN</td>\n      <td>NaN</td>\n      <td>NaN</td>\n      <td>NaN</td>\n      <td>NaN</td>\n      <td>NaN</td>\n      <td>NaN</td>\n      <td>NaN</td>\n      <td>NaN</td>\n      <td>NaN</td>\n      <td>NaN</td>\n      <td>NaN</td>\n      <td>NaN</td>\n      <td>NaN</td>\n      <td>NaN</td>\n      <td>NaN</td>\n      <td>NaN</td>\n      <td>NaN</td>\n      <td>NaN</td>\n      <td>NaN</td>\n      <td>NaN</td>\n      <td>NaN</td>\n      <td>NaN</td>\n      <td>NaN</td>\n      <td>NaN</td>\n      <td>NaN</td>\n      <td>NaN</td>\n      <td>NaN</td>\n      <td>NaN</td>\n      <td>NaN</td>\n      <td>NaN</td>\n      <td>NaN</td>\n      <td>NaN</td>\n      <td>NaN</td>\n      <td>NaN</td>\n      <td>NaN</td>\n      <td>NaN</td>\n      <td>NaN</td>\n      <td>NaN</td>\n      <td>NaN</td>\n      <td>NaN</td>\n      <td>NaN</td>\n      <td>NaN</td>\n      <td>NaN</td>\n      <td>NaN</td>\n      <td>NaN</td>\n      <td>NaN</td>\n      <td>NaN</td>\n      <td>NaN</td>\n      <td>NaN</td>\n      <td>NaN</td>\n      <td>NaN</td>\n      <td>NaN</td>\n      <td>NaN</td>\n      <td>NaN</td>\n      <td>NaN</td>\n      <td>NaN</td>\n      <td>NaN</td>\n      <td>NaN</td>\n      <td>NaN</td>\n      <td>NaN</td>\n      <td>NaN</td>\n      <td>NaN</td>\n      <td>NaN</td>\n      <td>NaN</td>\n      <td>NaN</td>\n      <td>DE R$ 81.000,01 A R$ 360.000,00</td>\n      <td>DE R$ 81.000,01 A R$ 360.000,00</td>\n      <td>210000.0</td>\n      <td>210000.0</td>\n      <td>2.0</td>\n      <td>0.0</td>\n      <td>NaN</td>\n      <td>NaN</td>\n      <td>NaN</td>\n      <td>NaN</td>\n      <td>NaN</td>\n      <td>NaN</td>\n      <td>NaN</td>\n      <td>NaN</td>\n      <td>NaN</td>\n      <td>NaN</td>\n      <td>NaN</td>\n      <td>NaN</td>\n      <td>NaN</td>\n      <td>NaN</td>\n      <td>NaN</td>\n      <td>NaN</td>\n      <td>NaN</td>\n      <td>NaN</td>\n      <td>99.3</td>\n      <td>0.0</td>\n      <td>0.0</td>\n      <td>2.0</td>\n      <td>2.0</td>\n      <td>43.1</td>\n      <td>63.9</td>\n      <td>22.3</td>\n      <td>NaN</td>\n      <td>NaN</td>\n      <td>NaN</td>\n      <td>0.0</td>\n      <td>0.0</td>\n      <td>0.0</td>\n      <td>NaN</td>\n      <td>NaN</td>\n      <td>0.0</td>\n      <td>0</td>\n    </tr>\n    <tr>\n      <th>286885</th>\n      <td>2c03861522370a16a47718d4f2fc36e0e4ef4f1d19fc19...</td>\n      <td>1</td>\n      <td>EMPRESARIO INDIVIDUAL</td>\n      <td>PI</td>\n      <td>OUTROS</td>\n      <td>TRANSPORTE, ARMAZENAGEM E CORREIO</td>\n      <td>SERVIÇO</td>\n      <td>0.331507</td>\n      <td>&lt;= 1</td>\n      <td>0</td>\n      <td>0</td>\n      <td>0</td>\n      <td>1</td>\n      <td>0</td>\n      <td>2018-06-29</td>\n      <td>0</td>\n      <td>0</td>\n      <td>1</td>\n      <td>NAO</td>\n      <td>TRANSPORTE TERRESTRE</td>\n      <td>TRANSPORTE ARMAZENAGEM E CORREIO</td>\n      <td>False</td>\n      <td>False</td>\n      <td>False</td>\n      <td>NaN</td>\n      <td>NaN</td>\n      <td>NaN</td>\n      <td>NaN</td>\n      <td>None</td>\n      <td>NaN</td>\n      <td>0.0</td>\n      <td>0.0</td>\n      <td>NaN</td>\n      <td>NaN</td>\n      <td>NaN</td>\n      <td>None</td>\n      <td>PI</td>\n      <td>CINZA</td>\n      <td>SEM INFORMACAO</td>\n      <td>NaN</td>\n      <td>MUITO BAIXA</td>\n      <td>None</td>\n      <td>False</td>\n      <td>NaN</td>\n      <td>418.80</td>\n      <td>CENTRO NORTE PIAUIENSE</td>\n      <td>CAMPO MAIOR</td>\n      <td>True</td>\n      <td>1.0</td>\n      <td>1.0</td>\n      <td>0.0</td>\n      <td>24.0</td>\n      <td>24.0</td>\n      <td>24.0</td>\n      <td>1.0</td>\n      <td>NaN</td>\n      <td>NaN</td>\n      <td>NaN</td>\n      <td>NaN</td>\n      <td>NaN</td>\n      <td>NaN</td>\n      <td>NaN</td>\n      <td>NaN</td>\n      <td>NaN</td>\n      <td>NaN</td>\n      <td>NaN</td>\n      <td>NaN</td>\n      <td>NaN</td>\n      <td>NaN</td>\n      <td>NaN</td>\n      <td>NaN</td>\n      <td>NaN</td>\n      <td>NaN</td>\n      <td>NaN</td>\n      <td>NaN</td>\n      <td>NaN</td>\n      <td>NaN</td>\n      <td>NaN</td>\n      <td>NaN</td>\n      <td>NaN</td>\n      <td>NaN</td>\n      <td>NaN</td>\n      <td>NaN</td>\n      <td>NaN</td>\n      <td>NaN</td>\n      <td>NaN</td>\n      <td>NaN</td>\n      <td>NaN</td>\n      <td>NaN</td>\n      <td>NaN</td>\n      <td>NaN</td>\n      <td>NaN</td>\n      <td>NaN</td>\n      <td>NaN</td>\n      <td>NaN</td>\n      <td>NaN</td>\n      <td>NaN</td>\n      <td>NaN</td>\n      <td>NaN</td>\n      <td>NaN</td>\n      <td>NaN</td>\n      <td>NaN</td>\n      <td>NaN</td>\n      <td>NaN</td>\n      <td>NaN</td>\n      <td>NaN</td>\n      <td>NaN</td>\n      <td>NaN</td>\n      <td>NaN</td>\n      <td>NaN</td>\n      <td>NaN</td>\n      <td>NaN</td>\n      <td>NaN</td>\n      <td>NaN</td>\n      <td>NaN</td>\n      <td>NaN</td>\n      <td>NaN</td>\n      <td>NaN</td>\n      <td>NaN</td>\n      <td>NaN</td>\n      <td>NaN</td>\n      <td>NaN</td>\n      <td>NaN</td>\n      <td>NaN</td>\n      <td>NaN</td>\n      <td>NaN</td>\n      <td>NaN</td>\n      <td>NaN</td>\n      <td>NaN</td>\n      <td>NaN</td>\n      <td>NaN</td>\n      <td>NaN</td>\n      <td>NaN</td>\n      <td>NaN</td>\n      <td>NaN</td>\n      <td>NaN</td>\n      <td>NaN</td>\n      <td>NaN</td>\n      <td>NaN</td>\n      <td>None</td>\n      <td>None</td>\n      <td>NaN</td>\n      <td>NaN</td>\n      <td>NaN</td>\n      <td>NaN</td>\n      <td>NaN</td>\n      <td>NaN</td>\n      <td>NaN</td>\n      <td>NaN</td>\n      <td>NaN</td>\n      <td>NaN</td>\n      <td>NaN</td>\n      <td>NaN</td>\n      <td>NaN</td>\n      <td>NaN</td>\n      <td>NaN</td>\n      <td>NaN</td>\n      <td>NaN</td>\n      <td>NaN</td>\n      <td>NaN</td>\n      <td>NaN</td>\n      <td>NaN</td>\n      <td>NaN</td>\n      <td>NaN</td>\n      <td>NaN</td>\n      <td>NaN</td>\n      <td>NaN</td>\n      <td>NaN</td>\n      <td>NaN</td>\n      <td>NaN</td>\n      <td>NaN</td>\n      <td>NaN</td>\n      <td>NaN</td>\n      <td>NaN</td>\n      <td>NaN</td>\n      <td>NaN</td>\n      <td>NaN</td>\n      <td>NaN</td>\n      <td>NaN</td>\n      <td>NaN</td>\n      <td>0</td>\n    </tr>\n  </tbody>\n</table>\n</div>"
     },
     "metadata": {},
     "execution_count": 62
    }
   ],
   "source": [
    "X.sample(5)"
   ]
  },
  {
   "cell_type": "code",
   "execution_count": 7,
   "metadata": {},
   "outputs": [],
   "source": [
    "#X = X.sample(10000).copy()"
   ]
  },
  {
   "cell_type": "markdown",
   "metadata": {},
   "source": [
    "## Features categóricas"
   ]
  },
  {
   "cell_type": "code",
   "execution_count": 8,
   "metadata": {},
   "outputs": [],
   "source": [
    "from sklearn.pipeline import Pipeline\n",
    "from sklearn.preprocessing import OneHotEncoder\n",
    "from sklearn.impute import SimpleImputer, KNNImputer"
   ]
  },
  {
   "cell_type": "code",
   "execution_count": 9,
   "metadata": {},
   "outputs": [],
   "source": [
    "cat_features = [*X.select_dtypes(include='object').columns]\n",
    "cat_features.remove('id')\n",
    "\n",
    "cat_imputer = SimpleImputer(strategy='most_frequent', missing_values=None)\n",
    "cat_encoder = OneHotEncoder(handle_unknown='error', sparse=True, drop='if_binary')\n",
    "\n",
    "cat_transformer = Pipeline([\n",
    "    ('cat_imp', cat_imputer),\n",
    "    ('cat_enc', cat_encoder)\n",
    "])"
   ]
  },
  {
   "cell_type": "markdown",
   "metadata": {},
   "source": [
    "## Features numéricas"
   ]
  },
  {
   "cell_type": "code",
   "execution_count": 10,
   "metadata": {},
   "outputs": [],
   "source": [
    "from sklearn.preprocessing import StandardScaler"
   ]
  },
  {
   "cell_type": "code",
   "execution_count": 11,
   "metadata": {},
   "outputs": [],
   "source": [
    "# todas as features numéricas\n",
    "num_features = [*X.select_dtypes(exclude='object').columns]"
   ]
  },
  {
   "cell_type": "code",
   "execution_count": 12,
   "metadata": {},
   "outputs": [],
   "source": [
    "# features numéricas: 2 estratégias para dados faltantes, de acordo com a análise exploratória\n",
    "nu1_features = [i for i in num_features if str.startswith(i, 'fl_')]\n",
    "nu1_imputer = SimpleImputer(strategy='most_frequent')\n",
    "nu1_scaler = StandardScaler()\n",
    "\n",
    "nu1_transformer = Pipeline([\n",
    "    ('nu1_imp', nu1_imputer),\n",
    "    ('nu1_sca', nu1_scaler)\n",
    "])\n",
    "\n",
    "nu2_features = [i for i in num_features if str.startswith(i, 'qt_colig')]\n",
    "nu2_imputer = SimpleImputer(strategy='constant', fill_value=0)\n",
    "\n",
    "nu2_transformer = Pipeline([\n",
    "    ('nu2_imp', nu2_imputer)\n",
    "])"
   ]
  },
  {
   "cell_type": "markdown",
   "metadata": {},
   "source": [
    "## Consolidado"
   ]
  },
  {
   "cell_type": "code",
   "execution_count": 13,
   "metadata": {},
   "outputs": [],
   "source": [
    "from sklearn.compose import ColumnTransformer"
   ]
  },
  {
   "cell_type": "code",
   "execution_count": 14,
   "metadata": {},
   "outputs": [],
   "source": [
    "data_transformer = ColumnTransformer([\n",
    "    ('cat_tr', cat_transformer, cat_features),\n",
    "    ('nu1_tr', nu1_transformer, nu1_features),\n",
    "    ('nu2_tr', nu2_transformer, nu2_features)\n",
    "], remainder='drop')"
   ]
  },
  {
   "cell_type": "code",
   "execution_count": 11,
   "metadata": {},
   "outputs": [],
   "source": [
    "tmp = data_transformer.fit_transform(X)\n",
    "tmp.shape"
   ]
  },
  {
   "cell_type": "markdown",
   "metadata": {},
   "source": [
    "# Modelo"
   ]
  },
  {
   "cell_type": "code",
   "execution_count": 15,
   "metadata": {},
   "outputs": [],
   "source": [
    "from sklearn.neighbors import NearestNeighbors"
   ]
  },
  {
   "cell_type": "code",
   "execution_count": 16,
   "metadata": {},
   "outputs": [],
   "source": [
    "knn_model = NearestNeighbors(metric='cosine', algorithm='brute', n_neighbors=10, n_jobs=-1)"
   ]
  },
  {
   "cell_type": "code",
   "execution_count": 17,
   "metadata": {},
   "outputs": [],
   "source": [
    "pipe = Pipeline([\n",
    "    ('data_tr', data_transformer),\n",
    "    ('model', knn_model)\n",
    "])"
   ]
  },
  {
   "cell_type": "code",
   "execution_count": 18,
   "metadata": {},
   "outputs": [
    {
     "output_type": "execute_result",
     "data": {
      "text/plain": "Pipeline(steps=[('data_tr',\n                 ColumnTransformer(transformers=[('cat_tr',\n                                                  Pipeline(steps=[('cat_imp',\n                                                                   SimpleImputer(missing_values=None,\n                                                                                 strategy='most_frequent')),\n                                                                  ('cat_enc',\n                                                                   OneHotEncoder(drop='if_binary'))]),\n                                                  ['de_natureza_juridica',\n                                                   'sg_uf',\n                                                   'natureza_juridica_macro',\n                                                   'de_ramo', 'setor',\n                                                   'idade_emp_cat',\n                                                   'dt_situacao', 'fl_rm',\n                                                   'nm_divisao', 'nm_segmento',\n                                                   'fl_sp...\n                                                   'qt_coligados_agropecuaria',\n                                                   'qt_coligados_comercio',\n                                                   'qt_coligados_serviço',\n                                                   'qt_coligados_ccivil',\n                                                   'qt_coligados_atividade_alto',\n                                                   'qt_coligados_atividade_medio',\n                                                   'qt_coligados_atividade_baixo',\n                                                   'qt_coligados_atividade_mt_baixo',\n                                                   'qt_coligados_atividade_inativo',\n                                                   'qt_coligadas'])])),\n                ('model',\n                 NearestNeighbors(algorithm='brute', metric='cosine', n_jobs=-1,\n                                  n_neighbors=10))])"
     },
     "metadata": {},
     "execution_count": 18
    }
   ],
   "source": [
    "pipe.fit(X)"
   ]
  },
  {
   "cell_type": "code",
   "execution_count": 19,
   "metadata": {},
   "outputs": [
    {
     "output_type": "execute_result",
     "data": {
      "text/plain": "(array([[0.00000000e+00, 1.44379596e-01, 1.44379596e-01],\n        [0.00000000e+00, 4.08276086e-02, 8.16552173e-02],\n        [0.00000000e+00, 4.51339541e-02, 1.35401862e-01],\n        [3.33066907e-16, 1.37750159e-01, 1.56889360e-01],\n        [0.00000000e+00, 1.24401212e-01, 1.65868283e-01],\n        [0.00000000e+00, 3.18038551e-02, 3.49356485e-02],\n        [0.00000000e+00, 1.61779428e-01, 1.61779428e-01],\n        [0.00000000e+00, 4.04448569e-02, 4.04448569e-02],\n        [4.44089210e-16, 4.28314804e-02, 4.28314804e-02],\n        [0.00000000e+00, 8.08897138e-02, 8.08897138e-02]]),\n array([[8176, 1238, 1800],\n        [4203, 9499, 3192],\n        [8139, 5236, 6448],\n        [3727, 8041, 5340],\n        [5453, 3951, 2148],\n        [1567, 7712, 5725],\n        [2556, 4738, 6694],\n        [9557, 1359, 4155],\n        [5907,  607, 2254],\n        [1722, 1078, 3644]], dtype=int64))"
     },
     "metadata": {},
     "execution_count": 19
    }
   ],
   "source": [
    "pipe.named_steps['model'].kneighbors(\\\n",
    "    data_transformer.transform(X.sample(10)), 3\n",
    ")"
   ]
  },
  {
   "cell_type": "markdown",
   "metadata": {},
   "source": [
    "# Testes"
   ]
  },
  {
   "cell_type": "code",
   "execution_count": 22,
   "metadata": {},
   "outputs": [],
   "source": [
    "sample_ids = X.sample(10)['id']"
   ]
  },
  {
   "cell_type": "code",
   "execution_count": 27,
   "metadata": {},
   "outputs": [
    {
     "output_type": "execute_result",
     "data": {
      "text/plain": "387894    2dc83104c051a670b241eedeb744e5a1e81048f1dbed83...\n453843    a01a9c724d3b226b7a4a830635cbf7f3752544803b8d18...\n392968    eaa826bad2eaccfb5977f35a847940e81e47243f8b290b...\n452887    7782381b4dc9537406200a93d25a14190fe87888b89a16...\n34165     aec70665392513c6da0afd91f521101945e3bad0eafffc...\n410264    8e1c7173691da0cef2322bb15f434f0fbd445250448939...\n393654    7e6596bd648c98e7ea37ed5f30c7b3f902dd9fc0135a4b...\n60700     c4da39334979298140bacaa3a9b59d4a097495bce02b12...\n272182    83f0c91b480a952334db31292c1187249008b4ad1b7a11...\n358888    2c1e594d59e705d239e9d38231729d34186ec6f57a17dd...\nName: id, dtype: object"
     },
     "metadata": {},
     "execution_count": 27
    }
   ],
   "source": [
    "sample_ids"
   ]
  },
  {
   "cell_type": "code",
   "execution_count": 56,
   "metadata": {},
   "outputs": [],
   "source": [
    "def recommendations(ids: pd.Series, n: int):\n",
    "    '''\n",
    "    Extrai recomendações do modelo.\n",
    "    '''\n",
    "    data = X.loc[ids.index, :]\n",
    "    \n",
    "    distances, indexes = pipe.named_steps['model'].kneighbors(\\\n",
    "        data_transformer.transform(data), n\n",
    "    )\n",
    "\n",
    "    ids = X.iloc[indexes[:, 0].flatten().tolist(), 0]\n",
    "    \n",
    "    return distances, ids"
   ]
  },
  {
   "cell_type": "code",
   "execution_count": 57,
   "metadata": {},
   "outputs": [],
   "source": [
    "ds, ids = recommendations(sample_ids, 4)"
   ]
  },
  {
   "cell_type": "markdown",
   "metadata": {},
   "source": [
    "# Pickling"
   ]
  },
  {
   "cell_type": "code",
   "execution_count": 85,
   "metadata": {},
   "outputs": [
    {
     "data": {
      "text/plain": [
       "['model.joblib']"
      ]
     },
     "execution_count": 85,
     "metadata": {},
     "output_type": "execute_result"
    }
   ],
   "source": [
    "# exporta o modelo treinado\n",
    "joblib.dump(pipe, '../model.joblib')"
   ]
  }
 ],
 "metadata": {
  "kernelspec": {
   "display_name": "Python 3",
   "language": "python",
   "name": "python3"
  },
  "language_info": {
   "codemirror_mode": {
    "name": "ipython",
    "version": 3
   },
   "file_extension": ".py",
   "mimetype": "text/x-python",
   "name": "python",
   "nbconvert_exporter": "python",
   "pygments_lexer": "ipython3",
   "version": "3.8.3-final"
  }
 },
 "nbformat": 4,
 "nbformat_minor": 2
}